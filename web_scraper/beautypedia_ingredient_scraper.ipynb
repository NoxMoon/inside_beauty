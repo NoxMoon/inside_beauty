{
 "cells": [
  {
   "cell_type": "markdown",
   "metadata": {},
   "source": [
    "Collect ingredient information from https://www.paulaschoice.com/ingredient-dictionary"
   ]
  },
  {
   "cell_type": "code",
   "execution_count": 1,
   "metadata": {},
   "outputs": [],
   "source": [
    "from selenium import webdriver\n",
    "from bs4 import BeautifulSoup\n",
    "import pandas as pd\n",
    "from tqdm import tqdm\n",
    "import time\n",
    "import re\n",
    "import requests"
   ]
  },
  {
   "cell_type": "markdown",
   "metadata": {},
   "source": [
    "Get ingredients' name, rating, category and link to individual page."
   ]
  },
  {
   "cell_type": "code",
   "execution_count": 2,
   "metadata": {},
   "outputs": [],
   "source": [
    "browser = webdriver.Firefox()\n",
    "browser.get('https://www.paulaschoice.com/ingredient-dictionary')\n",
    "soup = BeautifulSoup(browser.page_source,\"html5lib\")\n",
    "browser.close()"
   ]
  },
  {
   "cell_type": "code",
   "execution_count": 3,
   "metadata": {},
   "outputs": [],
   "source": [
    "#name and link\n",
    "ingredients = soup.find_all('h2',class_=\"name ingredient-name\")\n",
    "ingredient_links = [item.find('a')['href'] for item in ingredients]\n",
    "ingredient_names = [item.text.strip() for item in ingredients]\n",
    "#category\n",
    "categories = soup.find_all('div', class_=\"categories ingredient-categories\")\n",
    "category_names = [[i.text for i in item.find_all('a')] for item in categories]\n",
    "#rating\n",
    "ratings_items = soup.find_all('td', class_=re.compile(\"col-rating ingredient-rating\"))\n",
    "ratings = [item.text for item in ratings_items]"
   ]
  },
  {
   "cell_type": "code",
   "execution_count": 4,
   "metadata": {},
   "outputs": [
    {
     "data": {
      "text/html": [
       "<div>\n",
       "<style scoped>\n",
       "    .dataframe tbody tr th:only-of-type {\n",
       "        vertical-align: middle;\n",
       "    }\n",
       "\n",
       "    .dataframe tbody tr th {\n",
       "        vertical-align: top;\n",
       "    }\n",
       "\n",
       "    .dataframe thead th {\n",
       "        text-align: right;\n",
       "    }\n",
       "</style>\n",
       "<table border=\"1\" class=\"dataframe\">\n",
       "  <thead>\n",
       "    <tr style=\"text-align: right;\">\n",
       "      <th></th>\n",
       "      <th>name</th>\n",
       "      <th>link</th>\n",
       "      <th>category</th>\n",
       "      <th>rating</th>\n",
       "    </tr>\n",
       "  </thead>\n",
       "  <tbody>\n",
       "    <tr>\n",
       "      <th>0</th>\n",
       "      <td>1, 2-Hexanediol           ...</td>\n",
       "      <td>https://www.paulaschoice.com/ingredient-dictio...</td>\n",
       "      <td>[Preservatives]</td>\n",
       "      <td>Good</td>\n",
       "    </tr>\n",
       "    <tr>\n",
       "      <th>1</th>\n",
       "      <td>10-Hydroxydecanoic Acid   ...</td>\n",
       "      <td>https://www.paulaschoice.com/ingredient-dictio...</td>\n",
       "      <td>[Emollients]</td>\n",
       "      <td>Good</td>\n",
       "    </tr>\n",
       "    <tr>\n",
       "      <th>2</th>\n",
       "      <td>4-T-butylcyclohexanol     ...</td>\n",
       "      <td>https://www.paulaschoice.com/ingredient-dictio...</td>\n",
       "      <td>[Emollients, Skin-Soothing]</td>\n",
       "      <td>Good</td>\n",
       "    </tr>\n",
       "    <tr>\n",
       "      <th>3</th>\n",
       "      <td>Acacia farnesiana extract ...</td>\n",
       "      <td>https://www.paulaschoice.com/ingredient-dictio...</td>\n",
       "      <td>[Plant Extracts, Fragrance: Synthetic and Frag...</td>\n",
       "      <td>Poor</td>\n",
       "    </tr>\n",
       "    <tr>\n",
       "      <th>4</th>\n",
       "      <td>acacia senegal gum        ...</td>\n",
       "      <td>https://www.paulaschoice.com/ingredient-dictio...</td>\n",
       "      <td>[Texture Enhancer, Plant Extracts, Skin-Soothing]</td>\n",
       "      <td>Good</td>\n",
       "    </tr>\n",
       "  </tbody>\n",
       "</table>\n",
       "</div>"
      ],
      "text/plain": [
       "                                                name  \\\n",
       "0                      1, 2-Hexanediol           ...   \n",
       "1                      10-Hydroxydecanoic Acid   ...   \n",
       "2                      4-T-butylcyclohexanol     ...   \n",
       "3                      Acacia farnesiana extract ...   \n",
       "4                      acacia senegal gum        ...   \n",
       "\n",
       "                                                link  \\\n",
       "0  https://www.paulaschoice.com/ingredient-dictio...   \n",
       "1  https://www.paulaschoice.com/ingredient-dictio...   \n",
       "2  https://www.paulaschoice.com/ingredient-dictio...   \n",
       "3  https://www.paulaschoice.com/ingredient-dictio...   \n",
       "4  https://www.paulaschoice.com/ingredient-dictio...   \n",
       "\n",
       "                                            category rating  \n",
       "0                                    [Preservatives]   Good  \n",
       "1                                       [Emollients]   Good  \n",
       "2                        [Emollients, Skin-Soothing]   Good  \n",
       "3  [Plant Extracts, Fragrance: Synthetic and Frag...   Poor  \n",
       "4  [Texture Enhancer, Plant Extracts, Skin-Soothing]   Good  "
      ]
     },
     "execution_count": 4,
     "metadata": {},
     "output_type": "execute_result"
    }
   ],
   "source": [
    "ingredient_df = pd.DataFrame({'name':ingredient_names, \n",
    "                              'link':ingredient_links, \n",
    "                              'category':category_names,\n",
    "                              'rating': ratings})\n",
    "ingredient_df.to_csv('ingredients.csv')\n",
    "ingredient_df.head()"
   ]
  },
  {
   "cell_type": "markdown",
   "metadata": {},
   "source": [
    "Go to each ingredient's page and find discriptions"
   ]
  },
  {
   "cell_type": "code",
   "execution_count": 5,
   "metadata": {
    "scrolled": true
   },
   "outputs": [
    {
     "name": "stderr",
     "output_type": "stream",
     "text": [
      "100%|██████████| 1750/1750 [12:51<00:00,  2.27it/s]\n"
     ]
    },
    {
     "data": {
      "text/html": [
       "<div>\n",
       "<style scoped>\n",
       "    .dataframe tbody tr th:only-of-type {\n",
       "        vertical-align: middle;\n",
       "    }\n",
       "\n",
       "    .dataframe tbody tr th {\n",
       "        vertical-align: top;\n",
       "    }\n",
       "\n",
       "    .dataframe thead th {\n",
       "        text-align: right;\n",
       "    }\n",
       "</style>\n",
       "<table border=\"1\" class=\"dataframe\">\n",
       "  <thead>\n",
       "    <tr style=\"text-align: right;\">\n",
       "      <th></th>\n",
       "      <th>name</th>\n",
       "      <th>discription</th>\n",
       "    </tr>\n",
       "  </thead>\n",
       "  <tbody>\n",
       "    <tr>\n",
       "      <th>0</th>\n",
       "      <td>1, 2-Hexanediol           ...</td>\n",
       "      <td>A synthetic preservative and moisture-binding ...</td>\n",
       "    </tr>\n",
       "    <tr>\n",
       "      <th>1</th>\n",
       "      <td>10-Hydroxydecanoic Acid   ...</td>\n",
       "      <td>A synthetic ingredient that functions as a ski...</td>\n",
       "    </tr>\n",
       "    <tr>\n",
       "      <th>2</th>\n",
       "      <td>4-T-butylcyclohexanol     ...</td>\n",
       "      <td>A synthetic fatty alcohol that functions as an...</td>\n",
       "    </tr>\n",
       "    <tr>\n",
       "      <th>3</th>\n",
       "      <td>Acacia farnesiana extract ...</td>\n",
       "      <td>A fragrant extract from a type of acacia tree....</td>\n",
       "    </tr>\n",
       "    <tr>\n",
       "      <th>4</th>\n",
       "      <td>acacia senegal gum        ...</td>\n",
       "      <td>Herb that can have skin soothing properties, b...</td>\n",
       "    </tr>\n",
       "  </tbody>\n",
       "</table>\n",
       "</div>"
      ],
      "text/plain": [
       "                                                name  \\\n",
       "0                      1, 2-Hexanediol           ...   \n",
       "1                      10-Hydroxydecanoic Acid   ...   \n",
       "2                      4-T-butylcyclohexanol     ...   \n",
       "3                      Acacia farnesiana extract ...   \n",
       "4                      acacia senegal gum        ...   \n",
       "\n",
       "                                         discription  \n",
       "0  A synthetic preservative and moisture-binding ...  \n",
       "1  A synthetic ingredient that functions as a ski...  \n",
       "2  A synthetic fatty alcohol that functions as an...  \n",
       "3  A fragrant extract from a type of acacia tree....  \n",
       "4  Herb that can have skin soothing properties, b...  "
      ]
     },
     "execution_count": 5,
     "metadata": {},
     "output_type": "execute_result"
    }
   ],
   "source": [
    "def get_ingredient_discription(ingredient_df):\n",
    "    \n",
    "    discription_df = pd.DataFrame(ingredient_df['name'])\n",
    "    discription_df['discription'] = None\n",
    "    \n",
    "    for i in tqdm(range(ingredient_df.shape[0])):\n",
    "        try:\n",
    "            r = requests.get(ingredient_df['link'].iloc[i])\n",
    "        except Exception as e:\n",
    "            continue\n",
    "            \n",
    "        soup = BeautifulSoup(r.text)\n",
    "        discription = soup.find('div', class_=\"upper-body\")\n",
    "        if discription is not None:\n",
    "            discription_df['discription'].iloc[i] = discription.text.strip()\n",
    "            \n",
    "    return discription_df\n",
    "\n",
    "ingredient_discription_df = get_ingredient_discription(ingredient_df)\n",
    "ingredient_discription_df.to_csv('ingredient_discriptions.csv')\n",
    "ingredient_discription_df.head()"
   ]
  },
  {
   "cell_type": "code",
   "execution_count": null,
   "metadata": {},
   "outputs": [],
   "source": []
  }
 ],
 "metadata": {
  "kernelspec": {
   "display_name": "Python 3",
   "language": "python",
   "name": "python3"
  },
  "language_info": {
   "codemirror_mode": {
    "name": "ipython",
    "version": 3
   },
   "file_extension": ".py",
   "mimetype": "text/x-python",
   "name": "python",
   "nbconvert_exporter": "python",
   "pygments_lexer": "ipython3",
   "version": "3.6.5"
  }
 },
 "nbformat": 4,
 "nbformat_minor": 2
}
