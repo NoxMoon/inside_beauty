{
 "cells": [
  {
   "cell_type": "code",
   "execution_count": 7,
   "metadata": {},
   "outputs": [],
   "source": [
    "import pandas as pd\n",
    "import re"
   ]
  },
  {
   "cell_type": "code",
   "execution_count": 2,
   "metadata": {},
   "outputs": [],
   "source": [
    "cols = ['product_names','product_category','brand','ingredient','size','price']\n",
    "skin_care_df = pd.read_csv('../web_scraper/skin_care_products.csv', usecols = cols)\n",
    "body_care_df = pd.read_csv('../web_scraper/body_care_products.csv', usecols = cols)\n",
    "makeup_df = pd.read_csv('../web_scraper/makeup_products.csv', usecols = cols)"
   ]
  },
  {
   "cell_type": "code",
   "execution_count": null,
   "metadata": {},
   "outputs": [],
   "source": [
    "class product_df_cleaning:\n",
    "    \n",
    "    def __init__(self, df):\n",
    "        self.df = df.copy(deep=True)\n",
    "        \n",
    "    def drop_rows(drop_dict):\n",
    "        for col, value in drop_dict.items():\n",
    "            self.df = self.df.loc[self.df[col]!=value]\n",
    "    \n",
    "    def clean_price():\n",
    "        if self.df['price'].dtype != 'float':\n",
    "            self.df['price'] = self.df['price'].apply(lambda x: x.replace(',','')).astype('float')\n",
    "            \n",
    "    def clean_size():\n",
    "        self.df['size_num'] = df['size'].apply(lambda x: float(str(x).split()[0]))\n",
    "        self.df['size_unit'] = df['size'].apply(lambda x: str(x)[len(str(x).split()[0])+1:])\n",
    "        self.df['size_num'].loc[self.df['size_unit']=='fl. oz.'] *= 29.5735\n",
    "        self.df['size_unit'].loc[self.df['size_unit']=='fl. oz.'] = 'ml'\n",
    "        self.df['size_unit'].loc[self.df['size_unit']=='grams'] = 'gram'\n",
    "        self.df['size_unit'].loc[~self.df['size_unit'].isin('ml','gram','')] = 'piece/other'\n",
    "        \n",
    "    def clean_ingredient():\n",
    "        self.df['ingredient_list'] = self.df['ingredient'].apply(lambda x: [l.strip() for l in x.split(',')])\n",
    "        self.df['n_ingredient'] = self.df['ingredient_list'].apply(lambda x: len(x))\n",
    "        skin_care_df['is_alphabatical'] = skin_care_df['ingredient_list'].apply(check_alphabetical)\n",
    "        \n",
    "        def check_alphabetical(word_list, tol=2):\n",
    "            if(len(word_list)) <= tol:\n",
    "                return True\n",
    "            count = 0\n",
    "            for i in range(len(word_list) - 1):\n",
    "                if word_list[i] > word_list[i + 1]:\n",
    "                    count += 1\n",
    "                if count > tol:\n",
    "                    return False\n",
    "            return True"
   ]
  },
  {
   "cell_type": "code",
   "execution_count": 80,
   "metadata": {},
   "outputs": [
    {
     "data": {
      "text/plain": [
       "['Active Ingredient: Benzoyl Peroxide 2.5%. Inactive Ingredients: Water',\n",
       " 'Carbomer Homopolymer type B',\n",
       " 'Ethylhexylglycerin',\n",
       " 'Sodium Hydroxide',\n",
       " 'Chlorophenesin',\n",
       " 'Disodium EDTA',\n",
       " 'Laureth-4',\n",
       " 'Hydroxypropyl Methylcellulose']"
      ]
     },
     "execution_count": 80,
     "metadata": {},
     "output_type": "execute_result"
    }
   ],
   "source": [
    "sample = skin_care_df['ingredient'].apply(lambda x: [l.strip() for l in str(x).split(',')])[23]\n",
    "sample"
   ]
  },
  {
   "cell_type": "code",
   "execution_count": 68,
   "metadata": {},
   "outputs": [
    {
     "data": {
      "text/plain": [
       "False"
      ]
     },
     "execution_count": 68,
     "metadata": {},
     "output_type": "execute_result"
    }
   ],
   "source": [
    "def check_alphabetical(word_list, tol=2):\n",
    "    if(len(word_list)) <= tol:\n",
    "        return True\n",
    "    count = 0\n",
    "    for i in range(len(word_list) - 1):\n",
    "        if word_list[i] > word_list[i + 1]:\n",
    "            count += 1\n",
    "        if count > tol:\n",
    "            return False\n",
    "    return True\n",
    "    \n",
    "check_alphabetical(sample)"
   ]
  },
  {
   "cell_type": "code",
   "execution_count": 69,
   "metadata": {},
   "outputs": [],
   "source": [
    "skin_care_df['ingredient_list'] = skin_care_df['ingredient'].apply(lambda x: [l.strip() for l in str(x).split(',')])\n",
    "skin_care_df['is_alphabatical'] = skin_care_df['ingredient_list'].apply(check_alphabetical)"
   ]
  },
  {
   "cell_type": "code",
   "execution_count": 73,
   "metadata": {},
   "outputs": [
    {
     "data": {
      "text/plain": [
       "['Active Ingredient: Benzoyl Peroxide 2.5%. Inactive Ingredients: Water',\n",
       " 'Carbomer Homopolymer type B',\n",
       " 'Ethylhexylglycerin',\n",
       " 'Sodium Hydroxide',\n",
       " 'Chlorophenesin',\n",
       " 'Disodium EDTA',\n",
       " 'Laureth-4',\n",
       " 'Hydroxypropyl Methylcellulose']"
      ]
     },
     "execution_count": 73,
     "metadata": {},
     "output_type": "execute_result"
    }
   ],
   "source": [
    "skin_care_df['ingredient_list'][23]"
   ]
  },
  {
   "cell_type": "code",
   "execution_count": null,
   "metadata": {},
   "outputs": [],
   "source": []
  }
 ],
 "metadata": {
  "kernelspec": {
   "display_name": "Python 3",
   "language": "python",
   "name": "python3"
  },
  "language_info": {
   "codemirror_mode": {
    "name": "ipython",
    "version": 3
   },
   "file_extension": ".py",
   "mimetype": "text/x-python",
   "name": "python",
   "nbconvert_exporter": "python",
   "pygments_lexer": "ipython3",
   "version": "3.6.5"
  }
 },
 "nbformat": 4,
 "nbformat_minor": 2
}
