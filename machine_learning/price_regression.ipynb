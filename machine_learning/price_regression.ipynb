{
 "cells": [
  {
   "cell_type": "markdown",
   "metadata": {},
   "source": [
    "# Price Regression\n",
    "\n",
    "In this notebook, we will try to predict a product's price with both ingredient and non-ingredient features, and assess the relative importance of ingredients in determining price versus other factors such as brand and packaging.\n",
    "\n",
    "Model pipeline:\n",
    "<img src=\"../documents/images/price_regression_flow_chart.png\" width=\"700\" />"
   ]
  },
  {
   "cell_type": "code",
   "execution_count": 1,
   "metadata": {},
   "outputs": [],
   "source": [
    "import pandas as pd\n",
    "import matplotlib.pyplot as plt\n",
    "import seaborn as sns\n",
    "from xgboost import XGBRegressor\n",
    "from lightgbm import LGBMRegressor\n",
    "from sklearn.model_selection import train_test_split, KFold\n",
    "from sklearn.metrics import mean_squared_error, mean_absolute_error,explained_variance_score\n",
    "from sklearn.feature_extraction.text import TfidfTransformer\n",
    "from sklearn.decomposition import NMF\n",
    "from sklearn.pipeline import make_pipeline\n",
    "import itertools\n",
    "import gc\n",
    "\n",
    "import sys\n",
    "sys.path.append('../utilities')\n",
    "from data_utils import *\n",
    "from ml_utils import *\n",
    "from stats_utils import *"
   ]
  },
  {
   "cell_type": "markdown",
   "metadata": {},
   "source": [
    "#### Read and Prepare data\n",
    "\n",
    "We are going to predict all skin-care, body-care and makeup products. We will drop products with price higher than 300 for this study."
   ]
  },
  {
   "cell_type": "code",
   "execution_count": 2,
   "metadata": {},
   "outputs": [],
   "source": [
    "# read cleaned data\n",
    "skin_care_df = pd.read_csv('../data_cleaning/skin_care_cleaned.csv')\n",
    "body_care_df = pd.read_csv('../data_cleaning/body_care_cleaned.csv')\n",
    "makeup_df = pd.read_csv('../data_cleaning/makeup_cleaned.csv')\n",
    "\n",
    "# merge skin-care, body-care and makeup table\n",
    "df = pd.concat([skin_care_df,body_care_df,makeup_df], sort=False).reset_index(drop=True)\n",
    "\n",
    "# drop outlier\n",
    "df = df.loc[df['price']<300].reset_index(drop=True)"
   ]
  },
  {
   "cell_type": "markdown",
   "metadata": {},
   "source": [
    "#### Merge image predictions to dataframe\n",
    "\n",
    "In packaging_to_price.ipynb, we predicted the price using product images. Here we merge the predictions as one feature to our dataset."
   ]
  },
  {
   "cell_type": "code",
   "execution_count": 3,
   "metadata": {},
   "outputs": [
    {
     "data": {
      "text/plain": [
       "42"
      ]
     },
     "execution_count": 3,
     "metadata": {},
     "output_type": "execute_result"
    }
   ],
   "source": [
    "cols = ['product_names','brand','predicted_price','fold']\n",
    "image_df = pd.read_csv('image_prediction.csv', usecols=cols) \n",
    "image_df.rename({'predicted_price':'image_price'},axis=1,inplace=True)\n",
    "df = df.merge(image_df.groupby(['product_names','brand']).first(), on=['product_names','brand'], how='left')\n",
    "del image_df\n",
    "gc.collect()"
   ]
  },
  {
   "cell_type": "markdown",
   "metadata": {},
   "source": [
    "#### Add more features\n",
    "* Count ingredients that are \"xxx extract\", peptide, \"xxx oil\" --- these are special categories we found in EDA that may be associated with price.\n",
    "* Individule ingredient binary count --- the matrix is sparse and has too many columns, we cannot use it directly, so we will use chi2 test to pick a few that are important.\n",
    "* Similar to the idea of tf-idf, we can turn our individule ingredient count to \"if-ipf\"(ingredient frequency - inverse product frequency), which penalize common ingredients. Then we use NMF to get 50 compenents as features.\n",
    "* Note while doing \"if-ipf\" and NMF, we only fit on training set, and then transform both train and test set."
   ]
  },
  {
   "cell_type": "code",
   "execution_count": 4,
   "metadata": {},
   "outputs": [
    {
     "name": "stderr",
     "output_type": "stream",
     "text": [
      "/usr/local/Cellar/python/3.6.5/Frameworks/Python.framework/Versions/3.6/lib/python3.6/site-packages/scipy/stats/contingency.py:242: RuntimeWarning: invalid value encountered in less\n",
      "  if np.any(observed < 0):\n"
     ]
    },
    {
     "name": "stdout",
     "output_type": "stream",
     "text": [
      "individule ingredient picked:\n",
      " ['acetyl hexapeptide-8' 'algae extract' 'caffeine'\n",
      " 'palmitoyl oligopeptide' 'hydrogenated lecithin' 'alpha isomethyl ionone'\n",
      " 'trehalose' 'linoleic acid' 'phospholipid' 'PEG-8' 'polysilicone-11'\n",
      " 'butylparaben' 'palmitoyl tetrapeptide-7' 'retinol'\n",
      " 'tetrahexyldecyl ascorbate' 'urea' 'ascorbyl palmitate' 'polysaccharide'\n",
      " 'bromelain' 'hydrolyzed wheat protein' 'Palmitoyl Tripeptide-38'\n",
      " 'hydrolyzed algae extract' 'Calluna vulgaris flower extract'\n",
      " 'butylphenyl methylpropional' 'lysine' 'acetyl glucosamine'\n",
      " 'sodium metabisulfite' 'acetic acid' 'glycolic acid' 'polysorbate 80'\n",
      " 'Scutellaria baicalensis extract' 'isobutylparaben'\n",
      " 'hydrolyzed soy protein' 'arginine' 'polymethylsilsesquioxane'\n",
      " 'DMDM hydantoin' 'cholesterol' 'glyceryl polymethacrylate'\n",
      " 'sorbitan stearate' 'petrolatum' 'dipotassium glycyrrhizate'\n",
      " 'propylene glycol dicaprylate' 'cyclohexasiloxane' 'sorbitol'\n",
      " 'saccharide isomerate' 'phenyl trimethicone' 'grape seed extract'\n",
      " 'sucrose' 'sodium gluconate' 'retinyl retinoate']\n"
     ]
    },
    {
     "data": {
      "text/html": [
       "<div>\n",
       "<style scoped>\n",
       "    .dataframe tbody tr th:only-of-type {\n",
       "        vertical-align: middle;\n",
       "    }\n",
       "\n",
       "    .dataframe tbody tr th {\n",
       "        vertical-align: top;\n",
       "    }\n",
       "\n",
       "    .dataframe thead th {\n",
       "        text-align: right;\n",
       "    }\n",
       "</style>\n",
       "<table border=\"1\" class=\"dataframe\">\n",
       "  <thead>\n",
       "    <tr style=\"text-align: right;\">\n",
       "      <th></th>\n",
       "      <th>product_names</th>\n",
       "      <th>product_category</th>\n",
       "      <th>brand</th>\n",
       "      <th>ingredient</th>\n",
       "      <th>size</th>\n",
       "      <th>price</th>\n",
       "      <th>size_num</th>\n",
       "      <th>size_unit</th>\n",
       "      <th>avg_price</th>\n",
       "      <th>active_ingredient</th>\n",
       "      <th>...</th>\n",
       "      <th>dipotassium glycyrrhizate</th>\n",
       "      <th>propylene glycol dicaprylate</th>\n",
       "      <th>cyclohexasiloxane</th>\n",
       "      <th>sorbitol</th>\n",
       "      <th>saccharide isomerate</th>\n",
       "      <th>phenyl trimethicone</th>\n",
       "      <th>grape seed extract</th>\n",
       "      <th>sucrose</th>\n",
       "      <th>sodium gluconate</th>\n",
       "      <th>retinyl retinoate</th>\n",
       "    </tr>\n",
       "  </thead>\n",
       "  <tbody>\n",
       "    <tr>\n",
       "      <th>0</th>\n",
       "      <td>Clear Complexion Spot Treatment</td>\n",
       "      <td>Acne &amp; Blemish Treatment</td>\n",
       "      <td>Merle Norman</td>\n",
       "      <td>Active: Salicylic Acid (2%),  Other: Alcohol D...</td>\n",
       "      <td>0.50 fl. oz.</td>\n",
       "      <td>20.00</td>\n",
       "      <td>15.0</td>\n",
       "      <td>ml</td>\n",
       "      <td>1.333333</td>\n",
       "      <td>Salicylic Acid (2%),</td>\n",
       "      <td>...</td>\n",
       "      <td>0</td>\n",
       "      <td>0</td>\n",
       "      <td>0</td>\n",
       "      <td>0</td>\n",
       "      <td>0</td>\n",
       "      <td>0</td>\n",
       "      <td>0</td>\n",
       "      <td>0</td>\n",
       "      <td>0</td>\n",
       "      <td>0</td>\n",
       "    </tr>\n",
       "    <tr>\n",
       "      <th>1</th>\n",
       "      <td>Acne Solutions Emergency Gel Lotion</td>\n",
       "      <td>Acne &amp; Blemish Treatment</td>\n",
       "      <td>Clinique</td>\n",
       "      <td>Active: Benzoyl Peroxide (5%),  Other: Water P...</td>\n",
       "      <td>0.50 fl. oz.</td>\n",
       "      <td>17.00</td>\n",
       "      <td>15.0</td>\n",
       "      <td>ml</td>\n",
       "      <td>1.133333</td>\n",
       "      <td>Benzoyl Peroxide (5%),</td>\n",
       "      <td>...</td>\n",
       "      <td>0</td>\n",
       "      <td>0</td>\n",
       "      <td>0</td>\n",
       "      <td>0</td>\n",
       "      <td>0</td>\n",
       "      <td>0</td>\n",
       "      <td>0</td>\n",
       "      <td>1</td>\n",
       "      <td>0</td>\n",
       "      <td>0</td>\n",
       "    </tr>\n",
       "    <tr>\n",
       "      <th>2</th>\n",
       "      <td>RESIST Daily Pore-Refining Solution 2% BHA</td>\n",
       "      <td>Acne &amp; Blemish Treatment</td>\n",
       "      <td>Paula's Choice Skincare</td>\n",
       "      <td>Water (Aqua),  Dipropylene Glycol,  Salicylic ...</td>\n",
       "      <td>3.00 fl. oz.</td>\n",
       "      <td>33.00</td>\n",
       "      <td>89.0</td>\n",
       "      <td>ml</td>\n",
       "      <td>0.370787</td>\n",
       "      <td>NaN</td>\n",
       "      <td>...</td>\n",
       "      <td>1</td>\n",
       "      <td>0</td>\n",
       "      <td>0</td>\n",
       "      <td>0</td>\n",
       "      <td>0</td>\n",
       "      <td>0</td>\n",
       "      <td>0</td>\n",
       "      <td>0</td>\n",
       "      <td>0</td>\n",
       "      <td>0</td>\n",
       "    </tr>\n",
       "    <tr>\n",
       "      <th>3</th>\n",
       "      <td>Max Complexion Correction Pads</td>\n",
       "      <td>Acne &amp; Blemish Treatment</td>\n",
       "      <td>Peter Thomas Roth</td>\n",
       "      <td>Active: Salicylic Acid (2%),  Other: Alcohol D...</td>\n",
       "      <td>60.00</td>\n",
       "      <td>40.00</td>\n",
       "      <td>60.0</td>\n",
       "      <td>NaN</td>\n",
       "      <td>0.666667</td>\n",
       "      <td>Salicylic Acid (2%),</td>\n",
       "      <td>...</td>\n",
       "      <td>0</td>\n",
       "      <td>0</td>\n",
       "      <td>0</td>\n",
       "      <td>0</td>\n",
       "      <td>0</td>\n",
       "      <td>0</td>\n",
       "      <td>0</td>\n",
       "      <td>0</td>\n",
       "      <td>0</td>\n",
       "      <td>0</td>\n",
       "    </tr>\n",
       "    <tr>\n",
       "      <th>4</th>\n",
       "      <td>Naturals Acne Spot Treatment</td>\n",
       "      <td>Acne &amp; Blemish Treatment</td>\n",
       "      <td>Neutrogena</td>\n",
       "      <td>Active Ingredient: Salicylic Acid 1%. Inactive...</td>\n",
       "      <td>0.75 fl. oz.</td>\n",
       "      <td>8.49</td>\n",
       "      <td>22.0</td>\n",
       "      <td>ml</td>\n",
       "      <td>0.385909</td>\n",
       "      <td>Salicylic Acid 1%.</td>\n",
       "      <td>...</td>\n",
       "      <td>0</td>\n",
       "      <td>0</td>\n",
       "      <td>0</td>\n",
       "      <td>0</td>\n",
       "      <td>0</td>\n",
       "      <td>0</td>\n",
       "      <td>0</td>\n",
       "      <td>0</td>\n",
       "      <td>0</td>\n",
       "      <td>0</td>\n",
       "    </tr>\n",
       "  </tbody>\n",
       "</table>\n",
       "<p>5 rows × 193 columns</p>\n",
       "</div>"
      ],
      "text/plain": [
       "                                product_names          product_category  \\\n",
       "0             Clear Complexion Spot Treatment  Acne & Blemish Treatment   \n",
       "1         Acne Solutions Emergency Gel Lotion  Acne & Blemish Treatment   \n",
       "2  RESIST Daily Pore-Refining Solution 2% BHA  Acne & Blemish Treatment   \n",
       "3              Max Complexion Correction Pads  Acne & Blemish Treatment   \n",
       "4                Naturals Acne Spot Treatment  Acne & Blemish Treatment   \n",
       "\n",
       "                     brand                                         ingredient  \\\n",
       "0             Merle Norman  Active: Salicylic Acid (2%),  Other: Alcohol D...   \n",
       "1                 Clinique  Active: Benzoyl Peroxide (5%),  Other: Water P...   \n",
       "2  Paula's Choice Skincare  Water (Aqua),  Dipropylene Glycol,  Salicylic ...   \n",
       "3        Peter Thomas Roth  Active: Salicylic Acid (2%),  Other: Alcohol D...   \n",
       "4               Neutrogena  Active Ingredient: Salicylic Acid 1%. Inactive...   \n",
       "\n",
       "           size  price  size_num size_unit  avg_price  \\\n",
       "0  0.50 fl. oz.  20.00      15.0        ml   1.333333   \n",
       "1  0.50 fl. oz.  17.00      15.0        ml   1.133333   \n",
       "2  3.00 fl. oz.  33.00      89.0        ml   0.370787   \n",
       "3        60.00   40.00      60.0       NaN   0.666667   \n",
       "4  0.75 fl. oz.   8.49      22.0        ml   0.385909   \n",
       "\n",
       "           active_ingredient        ...        dipotassium glycyrrhizate  \\\n",
       "0     Salicylic Acid (2%),          ...                                0   \n",
       "1   Benzoyl Peroxide (5%),          ...                                0   \n",
       "2                        NaN        ...                                1   \n",
       "3     Salicylic Acid (2%),          ...                                0   \n",
       "4        Salicylic Acid 1%.         ...                                0   \n",
       "\n",
       "  propylene glycol dicaprylate cyclohexasiloxane  sorbitol  \\\n",
       "0                            0                 0         0   \n",
       "1                            0                 0         0   \n",
       "2                            0                 0         0   \n",
       "3                            0                 0         0   \n",
       "4                            0                 0         0   \n",
       "\n",
       "   saccharide isomerate  phenyl trimethicone grape seed extract sucrose  \\\n",
       "0                     0                    0                  0       0   \n",
       "1                     0                    0                  0       1   \n",
       "2                     0                    0                  0       0   \n",
       "3                     0                    0                  0       0   \n",
       "4                     0                    0                  0       0   \n",
       "\n",
       "  sodium gluconate retinyl retinoate  \n",
       "0                0                 0  \n",
       "1                0                 0  \n",
       "2                0                 0  \n",
       "3                0                 0  \n",
       "4                0                 0  \n",
       "\n",
       "[5 rows x 193 columns]"
      ]
     },
     "execution_count": 4,
     "metadata": {},
     "output_type": "execute_result"
    }
   ],
   "source": [
    "# count ingredients that that are \"xxx extract\", peptide, \"xxx oil\"\n",
    "df['count_extract'] = df['inactive_ingredient_list'].apply(count_pattern, pattern='extract')\n",
    "df['count_peptide'] = df['inactive_ingredient_list'].apply(count_pattern, pattern='peptide')\n",
    "df['count_oil'] = df['inactive_ingredient_list'].apply(count_pattern, pattern='oil')\n",
    "\n",
    "# count ingredient\n",
    "ingredient_count_df = get_matching_ingredient_count(df)\n",
    "\n",
    "# select important individule ingredient using chi-square test\n",
    "interesting_ingredients = []\n",
    "for col in ingredient_count_df.columns.values:\n",
    "    count_ingredient = ingredient_count_df[col].sum()\n",
    "    if count_ingredient > 100 and count_ingredient < 500:\n",
    "       interesting_ingredients.append(col) \n",
    "    \n",
    "price_band, bins = pd.qcut(df['price'], q=[0, 0.2, 0.4, 0.6, 0.8, 1], labels=False, retbins=True)\n",
    "ingredient_count_df['price_band'] = price_band.reset_index(drop=True)\n",
    "\n",
    "results = chi2_contingency(ingredient_count_df, interesting_ingredients, 'price_band').sort_values('p-value')\n",
    "top_ingredients = results.index.values[:50]\n",
    "print(\"individule ingredient picked:\\n\", top_ingredients)\n",
    "\n",
    "# create \"if-ipf\"(ingredient frequency - inverse product frequency) and use 50 NMF compenents as features\n",
    "ingredient_count_df.drop(['price_band'], axis=1, inplace=True)\n",
    "pipeline = make_pipeline(TfidfTransformer(),NMF(n_components=50))\n",
    "pipeline.fit(ingredient_count_df.loc[df['fold']!=-1])\n",
    "if_ipf_nmf = pipeline.transform(ingredient_count_df)\n",
    "if_ipf_nmf_df = pd.DataFrame(if_ipf_nmf)\n",
    "if_ipf_nmf_df = if_ipf_nmf_df.add_prefix('if_pif_nmf_') \n",
    "\n",
    "# merge the new features to dataframe\n",
    "df = pd.concat([df, if_ipf_nmf_df, ingredient_count_df[top_ingredients]], axis=1)\n",
    "df.head()"
   ]
  },
  {
   "cell_type": "markdown",
   "metadata": {},
   "source": [
    "#### Define feature set"
   ]
  },
  {
   "cell_type": "code",
   "execution_count": 5,
   "metadata": {},
   "outputs": [],
   "source": [
    "target = 'price'\n",
    "meanenc_feats = ['product_category', 'brand', 'size_unit']\n",
    "gen_features = ['product_category_mean_encode', 'brand_mean_encode', 'size_num', 'size_unit_mean_encode','image_price']\n",
    "ingredient_features = ['n_inactive_ingredient','n_active_ingredient','active_mean_rating', 'inactive_mean_rating', 'inactive_mean_rating_w1','inactive_mean_rating_w2']\n",
    "ingredient_features += [f_ for f_ in df.columns.values if f_.find('count')>=0]\n",
    "ingredient_features += [f_ for f_ in df.columns.values if f_.find('_nmf_')>=0]\n",
    "ingredient_features += list(top_ingredients)"
   ]
  },
  {
   "cell_type": "markdown",
   "metadata": {},
   "source": [
    "#### Custom KFolds\n",
    "We will use the same customized folds as we did in image-to-price prediction, so we define the custom_folds class that allows us to use it in place of KFolds. The class is initialized with predefined folds information (the series \"fold\") and returns indices when calling split()."
   ]
  },
  {
   "cell_type": "code",
   "execution_count": 6,
   "metadata": {},
   "outputs": [],
   "source": [
    "class custom_folds:\n",
    "    \n",
    "    def __init__(self, folds):\n",
    "        self.n_folds = folds.nunique()\n",
    "        self.folds = [list(np.where(folds.values==i)[0]) for i in range(self.n_folds)]\n",
    "        self.n_row = folds.shape[0]\n",
    "        \n",
    "    def split(self, dummy):\n",
    "        assert(dummy.shape[0] == self.n_row)\n",
    "        return ((self.train_idx(i), self.val_idx(i)) for i in range(self.n_folds))\n",
    "    \n",
    "    def train_idx(self, i):\n",
    "        return self.folds[i]\n",
    "        \n",
    "    def val_idx(self, i):\n",
    "        idx = []\n",
    "        for n in range(self.n_folds):\n",
    "            if n!=i:\n",
    "                idx += self.folds[n]\n",
    "        \n",
    "        return list(set(idx))\n",
    "    \n",
    "train, test = df.loc[df['fold']!=-1], df.loc[df['fold']==-1]\n",
    "my_folds = custom_folds(train['fold'])"
   ]
  },
  {
   "cell_type": "markdown",
   "metadata": {},
   "source": [
    "#### target encoding categorical features\n",
    "\n",
    "The brand and product category are high-cardinal, target encoding would be the best to deal with them."
   ]
  },
  {
   "cell_type": "code",
   "execution_count": 7,
   "metadata": {},
   "outputs": [
    {
     "name": "stderr",
     "output_type": "stream",
     "text": [
      "../utilities/ml_utils.py:153: RuntimeWarning: overflow encountered in exp\n",
      "  smoothing = 1 / (1 + np.exp(-(averages[\"count\"] - min_samples_leaf) / smoothing))\n"
     ]
    }
   ],
   "source": [
    "pd.options.mode.chained_assignment = None\n",
    "for col in meanenc_feats:\n",
    "    train[col+'_mean_encode'] = 0.\n",
    "    test[col+'_mean_encode'] = 0.\n",
    "    SMOOTHING = test[~test[col].isin(train[col])].shape[0]/test.shape[0]\n",
    "    _, test[col+'_mean_encode'] = target_encode(train[col], \n",
    "                                      test[col], \n",
    "                                      target=train[target], \n",
    "                                      min_samples_leaf=10,\n",
    "                                      smoothing=SMOOTHING,\n",
    "                                      noise_level=0.02)\n",
    "    for f, (vis_index, blind_index) in enumerate(my_folds.split(train)):\n",
    "        _, train[col+'_mean_encode'].iloc[blind_index] = target_encode(train[col].iloc[vis_index], \n",
    "                                                            train[col].iloc[blind_index], \n",
    "                                                            target=train[target].iloc[vis_index], \n",
    "                                                            min_samples_leaf=10,\n",
    "                                                            smoothing=SMOOTHING,\n",
    "                                                            noise_level=0.02)     \n",
    "        \n"
   ]
  },
  {
   "cell_type": "markdown",
   "metadata": {},
   "source": [
    "#### First let's build a baseline model with non-ingredient features --- just using brand, category, size and packaging (image predictions) features."
   ]
  },
  {
   "cell_type": "code",
   "execution_count": 8,
   "metadata": {},
   "outputs": [
    {
     "name": "stdout",
     "output_type": "stream",
     "text": [
      "number of features: 5\n",
      "rmse: (train cv) 28.495, (test) 19.525\n",
      "mae: (train cv) 16.648, (test) 11.358\n",
      "explained variance: (train cv) 0.283, (test) 0.611\n"
     ]
    }
   ],
   "source": [
    "features = gen_features\n",
    "X_train, y_train = train[features], train[target]\n",
    "X_test, y_test = test[features], test[target]\n",
    "\n",
    "model = LGBMRegressor(n_estimators=100, max_depth=4, learning_rate=0.1, lambda_l2=0.1, random_state=777)\n",
    "y_train_pred_n = oof_preds(X_train.values, y_train.values, model, folds=my_folds, return_prob=False)\n",
    "\n",
    "model.fit(X_train, y_train)\n",
    "y_test_pred_n = model.predict(X_test)\n",
    "\n",
    "rmse_train = np.sqrt(mean_squared_error(y_train, y_train_pred_n))\n",
    "rmse_test = np.sqrt(mean_squared_error(y_test, y_test_pred_n))\n",
    "\n",
    "mae_train = mean_absolute_error(y_train, y_train_pred_n)\n",
    "mae_test = mean_absolute_error(y_test, y_test_pred_n)\n",
    "\n",
    "ev_train = explained_variance_score(y_train, y_train_pred_n)\n",
    "ev_test = explained_variance_score(y_test, y_test_pred_n)\n",
    "\n",
    "print(\"number of features:\",len(features))\n",
    "print(\"rmse: (train cv) %.3f, (test) %.3f\"%(rmse_train, rmse_test))\n",
    "print(\"mae: (train cv) %.3f, (test) %.3f\"%(mae_train, mae_test))\n",
    "print(\"explained variance: (train cv) %.3f, (test) %.3f\"%(ev_train, ev_test))"
   ]
  },
  {
   "cell_type": "markdown",
   "metadata": {},
   "source": [
    "#### Use ingredient features to train the model"
   ]
  },
  {
   "cell_type": "code",
   "execution_count": 9,
   "metadata": {},
   "outputs": [
    {
     "name": "stdout",
     "output_type": "stream",
     "text": [
      "number of features: 171\n",
      "rmse: (train cv) 28.916, (test) 24.055\n",
      "mae: (train cv) 17.936, (test) 15.787\n",
      "explained variance: (train cv) 0.262, (test) 0.408\n"
     ]
    }
   ],
   "source": [
    "features = ingredient_features\n",
    "X_train, y_train = train[features], train[target]\n",
    "X_test, y_test = test[features], test[target]\n",
    "\n",
    "model = LGBMRegressor(n_estimators=200, max_depth=5, learning_rate=0.1, lambda_l2=0.1, random_state=777)\n",
    "y_train_pred_i = oof_preds(X_train.values, y_train.values, model, folds=my_folds, return_prob=False)\n",
    "\n",
    "model.fit(X_train, y_train)\n",
    "y_test_pred_i = model.predict(X_test)\n",
    "\n",
    "rmse_train = np.sqrt(mean_squared_error(y_train, y_train_pred_i))\n",
    "rmse_test = np.sqrt(mean_squared_error(y_test, y_test_pred_i))\n",
    "\n",
    "mae_train = mean_absolute_error(y_train, y_train_pred_i)\n",
    "mae_test = mean_absolute_error(y_test, y_test_pred_i)\n",
    "\n",
    "ev_train = explained_variance_score(y_train, y_train_pred_i)\n",
    "ev_test = explained_variance_score(y_test, y_test_pred_i)\n",
    "\n",
    "print(\"number of features:\",len(features))\n",
    "print(\"rmse: (train cv) %.3f, (test) %.3f\"%(rmse_train, rmse_test))\n",
    "print(\"mae: (train cv) %.3f, (test) %.3f\"%(mae_train, mae_test))\n",
    "print(\"explained variance: (train cv) %.3f, (test) %.3f\"%(ev_train, ev_test))"
   ]
  },
  {
   "cell_type": "markdown",
   "metadata": {},
   "source": [
    "All ingredient features together achieve slightly lower accuracy than using non-ingredient features."
   ]
  },
  {
   "cell_type": "markdown",
   "metadata": {},
   "source": [
    "#### Now use all features, and see how much can they improve our model"
   ]
  },
  {
   "cell_type": "code",
   "execution_count": 10,
   "metadata": {},
   "outputs": [
    {
     "name": "stdout",
     "output_type": "stream",
     "text": [
      "number of features: 176\n",
      "rmse: (train cv) 27.014, (test) 17.855\n",
      "mae: (train cv) 15.324, (test) 10.580\n",
      "explained variance: (train cv) 0.360, (test) 0.676\n"
     ]
    }
   ],
   "source": [
    "features = gen_features + ingredient_features\n",
    "X_train, y_train = train[features], train[target]\n",
    "X_test, y_test = test[features], test[target]\n",
    "\n",
    "model = LGBMRegressor(n_estimators=200, max_depth=5, learning_rate=0.1, lambda_l2=0.1, random_state=777)\n",
    "y_train_pred = oof_preds(X_train.values, y_train.values, model, folds=my_folds, return_prob=False)\n",
    "\n",
    "model.fit(X_train, y_train)\n",
    "y_test_pred = model.predict(X_test)\n",
    "\n",
    "rmse_train = np.sqrt(mean_squared_error(y_train, y_train_pred))\n",
    "rmse_test = np.sqrt(mean_squared_error(y_test, y_test_pred))\n",
    "\n",
    "mae_train = mean_absolute_error(y_train, y_train_pred)\n",
    "mae_test = mean_absolute_error(y_test, y_test_pred)\n",
    "\n",
    "ev_train = explained_variance_score(y_train, y_train_pred)\n",
    "ev_test = explained_variance_score(y_test, y_test_pred)\n",
    "\n",
    "print(\"number of features:\",len(features))\n",
    "print(\"rmse: (train cv) %.3f, (test) %.3f\"%(rmse_train, rmse_test))\n",
    "print(\"mae: (train cv) %.3f, (test) %.3f\"%(mae_train, mae_test))\n",
    "print(\"explained variance: (train cv) %.3f, (test) %.3f\"%(ev_train, ev_test))"
   ]
  },
  {
   "cell_type": "markdown",
   "metadata": {},
   "source": [
    "With all features together, we are able to improve our model further."
   ]
  },
  {
   "cell_type": "markdown",
   "metadata": {},
   "source": [
    "#### scatter plot for predicted vs. true price"
   ]
  },
  {
   "cell_type": "code",
   "execution_count": 11,
   "metadata": {},
   "outputs": [
    {
     "data": {
      "image/png": "[encoded data removed]",
      "text/plain": [
       "<Figure size 504x504 with 1 Axes>"
      ]
     },
     "metadata": {
      "needs_background": "light"
     },
     "output_type": "display_data"
    }
   ],
   "source": [
    "plt.figure(figsize=(7,7))\n",
    "plt.scatter(y_test, y_test_pred, marker='.')\n",
    "plt.plot([0,300],[0,300],color='r')\n",
    "plt.axis('equal')\n",
    "plt.xlim(0,300)\n",
    "plt.ylim(0,300)\n",
    "plt.xlabel('true price',fontsize=16)\n",
    "plt.ylabel('predicted price',fontsize=16)\n",
    "plt.show()"
   ]
  },
  {
   "cell_type": "markdown",
   "metadata": {},
   "source": [
    "For very expensive products, our model tend to underestimate the price."
   ]
  },
  {
   "cell_type": "markdown",
   "metadata": {},
   "source": [
    "#### Plot feature importance"
   ]
  },
  {
   "cell_type": "code",
   "execution_count": 12,
   "metadata": {},
   "outputs": [
    {
     "data": {
      "image/png": "[encoded data removed]",
      "text/plain": [
       "<Figure size 360x864 with 1 Axes>"
      ]
     },
     "metadata": {
      "needs_background": "light"
     },
     "output_type": "display_data"
    }
   ],
   "source": [
    "feature_importance_df = pd.DataFrame()\n",
    "feature_importance_df['feature'] = features\n",
    "feature_importance_df['feature importance'] = model.feature_importances_\n",
    "feature_importance_df = feature_importance_df.sort_values('feature importance', ascending=False)\n",
    "plt.figure(figsize=(5,12))\n",
    "sns.barplot(x='feature importance', y='feature', data=feature_importance_df.iloc[:30])\n",
    "plt.show()"
   ]
  },
  {
   "cell_type": "markdown",
   "metadata": {},
   "source": [
    "The most important features are product category and Brand. For ingredient-related features, the NMF features are pretty good."
   ]
  },
  {
   "cell_type": "markdown",
   "metadata": {},
   "source": [
    "#### Look at some highly overestimated or underestimated examples"
   ]
  },
  {
   "cell_type": "code",
   "execution_count": 13,
   "metadata": {},
   "outputs": [
    {
     "name": "stdout",
     "output_type": "stream",
     "text": [
      "product_name: Retinol Plus Mask\n",
      "brand: Jan Marini Skin Research, Inc.\n",
      "category: Face Mask\n",
      "size: 1.20 fl. oz.\n",
      "price: 90.0\n",
      "ingredient: Water/Aqua/Eau,  Kaolin,  Caprylic/Capric Triglyceride,  Glyceryl Stearate,  Glycerin,  Polysorbate 60,  Salicylic Acid,  Stearic Acid,  Polysorbate 20,  Retinol,  Bisabolol,  Oligopeptide-24,  Aloe Barbadensis (Aloe Vera) Leaf Juice,  Carthamus Tinctorius (Safflower) Seed Oil,  Sodium Hyaluronate,  Ceramide 2,  Butyrospermum Parkii (Shea) Butter,  Camellia Oleifera (Green Tea) Leaf Extract,  Aspalathus Linearis Leaf Extract,  Camellia Sinensis Leaf Extract,  Tocopherol,  Tocopheryl Acetate,  Linoleic Acid,  Linolenic Acid,  Stearyl Alcohol,  Hydroxyethyl Acrylate/Sodium Acryloyldimethyl Taurate Copolymer,  Squalane,  Caprylyl Glycol,  Magnesium Aluminum Silicate,  Carrageenan,  Xanthan Gum,  Ethylhexylglycerin,  Hexylene Glycol,  PEG-40 Hydrogenated Castor Oil,  Sodium Hydroxide,  Citric Acid,  Propylene Glycol,  Disodium EDTA,  Phenoxyethanol\n",
      "predicted price\n",
      "without ingredient features: 62.9\n",
      "with only ingredient features: 50.2\n",
      "final (all features): 64.6\n",
      "\n",
      "product_name: Les Beiges Healthy Glow Sheer Powder SPF 15\n",
      "brand: Chanel\n",
      "category: Face Powder\n",
      "size: nan\n",
      "price: 57.5\n",
      "ingredient: Active Ingredients: Octinoxate (7%),  Titanium Dioxide (8%); Inactive Ingredients: Talc,  Nylon-12,  Boron Nitride,  Polyethylene,  Silica,  Stearic Acid,  Aluminum Dimyristate,  Alumina,  Potassium Sorbate,  Butyrospermum Parkii (Shea) Butter,  Fragrance,  Sodium Dehydroacetate,  Chlorphenesin,  Tocopheryl Acetate,  Magnesium Myristate,  Tin Oxide,  Gossypium Arboreum (Cotton) Leaf Cell Extract,  Rosa Alba Leaf Cell Extract,  BHT,  Citric Acid. May Contain: Ultramarines,  Iron Oxides,  Titanium Dioxide,  Mica.\n",
      "predicted price\n",
      "without ingredient features: 34.5\n",
      "with only ingredient features: 22.1\n",
      "final (all features): 35.1\n",
      "\n",
      "product_name: Microdermabrasion Exfoliating Face Cream\n",
      "brand: Dr. Brandt\n",
      "category: Exfoliants\n",
      "size: 1.70 fl. oz.\n",
      "price: 75.0\n",
      "ingredient: Water,  Alumina,  Caprylic/Capric Triglyceride,  Glycerin,  Cetyl Alcohol,  Glyceryl Stearate,  Peg-12 Glyceryl Distearate,  Peg-100 Stearate,  Ammonium Acryloyldimethyltaurate/Vp Copolymer,  Jojoba Seed Oil,  Xanthan Gum,  Lactic Acid,  Fragrance,  Menthone Glycerin Acetal,  Allantoin,  Magnesium Chloride,  Magnesium Nitrate,  Tocopheryl Acetate,  Magnesium Oxide,  Butylene Glycol,  Aloe Barbadensis Leaf Extract,  Grape Seed Extract,  Matricaria Flower Extract,  Camellia Oleifera Leaf Extract,  Camellia Sinensis Leaf Extract,  Methylchloroisothiazolinone,  Methylisothiazolinone,  Phenoxyethanol,  Methylparaben,  Butylparaben,  Propylparaben,  Isobutylparaben,  Citral,  Limonene\n",
      "predicted price\n",
      "without ingredient features: 58.0\n",
      "with only ingredient features: 37.6\n",
      "final (all features): 51.2\n",
      "\n"
     ]
    }
   ],
   "source": [
    "under_estimated_samples = np.random.choice(np.where(y_test-y_test_pred>20)[0], size=3)\n",
    "for i in under_estimated_samples:\n",
    "    product = test.iloc[i]\n",
    "    print_product(product)\n",
    "    print(\"predicted price\")\n",
    "    print(\"without ingredient features: %.1f\" %y_test_pred_n[i])\n",
    "    print(\"with only ingredient features: %.1f\" %y_test_pred_i[i])\n",
    "    print(\"final (all features): %.1f\\n\" %y_test_pred[i])"
   ]
  },
  {
   "cell_type": "code",
   "execution_count": 14,
   "metadata": {},
   "outputs": [
    {
     "name": "stdout",
     "output_type": "stream",
     "text": [
      "product_name: Anti-Aging Foundation SPF 15\n",
      "brand: La Prairie\n",
      "category: Foundation\n",
      "size: nan\n",
      "price: 110.0\n",
      "ingredient: Active: Octinoxate (7.5%) Other: Water,  Cyclopentasiloxane,  Ethylhexyl Methoxycinnamate,  Cyclohexasiloxane,  Glycerin,  Isododecane,  Butylene Glycol,  SD Alcohol 40 (Alcohol Denat.),  Lauryl PEG-9 Polydimethylsiloxyethyl Dimethicone,  Polyglyceryl-4 Isostearate,  Cetyl PEG/PPG-10/1 Dimethicone,  Hexyl Laurate,  Disteardimonium Hectorite,  Nylon-12,  Glycoproteins,  Panax Ginseng Root Extract,  Equisetum Arvense (Horsetail) Extract,  Glycine Soja (Soybean) Oil Unsaponifiables,  Ilomastat,  Ursolic Acid,  Hydrogenated Lecithin,  Retinyl Palmitate,  Hydrolyzed Soy Protein,  Ascorbyl Palmitate,  Plankton Extract,  Camellia Sinensis Leaf Extract,  Carnosine,  Sodium Hyaluronate,  Olea Europaea (Olive) Oil Unsaponifiables,  Dimethicone/PEG-10/15 Crosspolymer,  Triticum Vulgare (Wheat) Germ Oil Unsaponifiables,  Algin,  Hydrolyzed Malt Extract,  Polymethyl Methacrylate,  Phospholipids,  Tocopheryl Acetate,  Caprylic/Capric Triglyceride,  Octyldodecanol,  Pollen Extract,  Disodium Stearoyl Glutamate,  Acacia Senegal Gum,  Magnesium Sulfate,  Squalane,  Dipropylene Glycol,  Trihydroxystearin,  Serine,  Acrylates Copolymer,  Aluminum Starch Octenylsuccinate,  PEG-8,  Diphenyl Dimethicone,  Polysorbate 60,  Cellulose Gum,  Hydroxyethyl Acrylate/Sodium Acryloyldimethyl Taurate Copolymer,  Sodium Phosphate,  Sucrose,  Dimethicone/Vinyl Dimethicone Crosspolymer,  Xanthan Gum,  Caprylyl Glycol,  Aluminum Hydroxide,  Propylene Glycol,  BHT,  Sodium Laureth Sulfate,  Fragrance,  Butylphenyl Methylpropional,  Hydroxyisohexyl 3-Cyclohexene Carboxaldehyde,  Hydroxycitronellal,  Linalool,  Citronellol,  Alpha-Isomethyl Ionone,  Geraniol,  Methylisothiazolinone,  Phenoxyethanol,  Methylparaben,  Ethylparaben,  Propylparaben,  Butylparaben,  Titanium Dioxide,  Iron Oxides,  Iron Oxides,  Iron Oxides\n",
      "predicted price\n",
      "without ingredient features: 98.4\n",
      "with only ingredient features: 211.0\n",
      "final (all features): 186.4\n",
      "\n",
      "product_name: Facial Fuel Anti Wrinkle Cream\n",
      "brand: Kiehl's\n",
      "category: Nighttime Moisturizer\n",
      "size: 1.69 fl. oz.\n",
      "price: 36.0\n",
      "ingredient: Water,  Dimethicone,  Isohexadecane,  Cyclohexasiloxane,  Butylene Glycol,  Synthetic Wax,  Dimethicone/PEG-10/15 Crosspolymer,  Aluminum Starch Octenylsuccinate,  Phenoxyethanol,  Magnesium Sulfate,  Methylparaben,  Fragrance,  Acrylates Copolymer,  Ethylparaben,  Menthol,  Disodium EDTA,  Limonene,  Corn Germ Oil,  Betula Alba Juice,  Propylene Glycol,  Tocopherol,  Ascorbyl Glucoside,  Orange Fruit Extract,  Lemon Peel Extract,  Alcohol,  Chestnut Extract,  Linalool,  Hydrolyzed Soy Protein,  Citral,  Blue 1\n",
      "predicted price\n",
      "without ingredient features: 72.8\n",
      "with only ingredient features: 46.9\n",
      "final (all features): 62.3\n",
      "\n",
      "product_name: Mighty Marshmallow Bright & Radiant Whipped Mask\n",
      "brand: Bliss\n",
      "category: Face Mask\n",
      "size: 1.70 fl. oz.\n",
      "price: 16.0\n",
      "ingredient: Water,  Glycerin,  Butylene Glycol,  Caprylic/Capric Triglyceride,  Hydroxyethyl Urea,  PEG/PPG-17/6 Copolymer,  Olea Europaea (Olive) Fruit Oil,  Cetearyl Alcohol,  Cetyl Ethylhexanoate,  Ascorbic Acid,  Tocopheryl Acetate,  Ascorbyl Glucoside,  Sodium Ascorbyl Phosphate,  Olea Europaea (Olive) Leaf Extract,  Phyllanthus Emblica Fruit Extract,  Opuntia Coccinellifera Fruit Extract,  Althaea Officinalis Root Extract,  Hydrolyzed Acacia Macrostachya Seed Extract,  Citrus Aurantium Dulcis (Orange) Peel Oil,  Citrus Aurantium Bergamia (Bergamot) Fruit Oil,  Citrus Autrantifolia (Lime) Oil,  Citrus Limon (Lemon) Peel Oil,  Eucalyptus Globulus Leaf Oil,  Pinus Sylvestris Leaf Oil,  Zinc PCA,  Ammonium Acryloyldimethyltaurate/Beheneth-25 Methacrylate Crosspolymer,  Polysorbate 20,  Polysorbate 60,  Stearic Acid,  Glyceryl Stearate,  Sorbitan Stearate,  Sorbitan Isosteaerate,  PEG-100 Stearate,  Polyacrylate-13,  Dimethicone,  Caprylyl Glycol,  Sodium Acrylates Crosspolymer-2,  Polyisobutene,  Maltodextrin,  Disodium EDTA,  Phenoxyethanol,  Ethylhexylglycerin,  Chlorphenesin,  Tetrasodium Pyrophosphate,  Limonene,  Titanium Dioxide,  Red 33.\n",
      "predicted price\n",
      "without ingredient features: 43.7\n",
      "with only ingredient features: 51.4\n",
      "final (all features): 36.2\n",
      "\n"
     ]
    }
   ],
   "source": [
    "over_estimated_samples = np.random.choice(np.where(y_test_pred-y_test>20)[0], size=3)\n",
    "for i in over_estimated_samples:\n",
    "    product = test.iloc[i]\n",
    "    print_product(product)\n",
    "    print(\"predicted price\")\n",
    "    print(\"without ingredient features: %.1f\" %y_test_pred_n[i])\n",
    "    print(\"with only ingredient features: %.1f\" %y_test_pred_i[i])\n",
    "    print(\"final (all features): %.1f\\n\" %y_test_pred[i])"
   ]
  },
  {
   "cell_type": "code",
   "execution_count": null,
   "metadata": {},
   "outputs": [],
   "source": []
  }
 ],
 "metadata": {
  "kernelspec": {
   "display_name": "Python 3",
   "language": "python",
   "name": "python3"
  },
  "language_info": {
   "codemirror_mode": {
    "name": "ipython",
    "version": 3
   },
   "file_extension": ".py",
   "mimetype": "text/x-python",
   "name": "python",
   "nbconvert_exporter": "python",
   "pygments_lexer": "ipython3",
   "version": "3.6.5"
  }
 },
 "nbformat": 4,
 "nbformat_minor": 2
}
