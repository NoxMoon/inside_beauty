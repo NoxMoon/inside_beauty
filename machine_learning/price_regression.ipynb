{
 "cells": [
  {
   "cell_type": "markdown",
   "metadata": {},
   "source": [
    "# Price Regression"
   ]
  },
  {
   "cell_type": "code",
   "execution_count": 1,
   "metadata": {},
   "outputs": [],
   "source": [
    "import pandas as pd\n",
    "import matplotlib.pyplot as plt\n",
    "import seaborn as sns\n",
    "from xgboost import XGBRegressor\n",
    "from lightgbm import LGBMRegressor\n",
    "from sklearn.model_selection import train_test_split, KFold\n",
    "from sklearn.metrics import mean_squared_error, explained_variance_score\n",
    "from sklearn.feature_extraction.text import TfidfTransformer\n",
    "from sklearn.decomposition import NMF\n",
    "import itertools\n",
    "\n",
    "import sys\n",
    "sys.path.append('../utilities')\n",
    "from data_utils import *\n",
    "from ml_utils import *\n",
    "from stats_utils import *"
   ]
  },
  {
   "cell_type": "markdown",
   "metadata": {},
   "source": [
    "#### Read and Prepare data"
   ]
  },
  {
   "cell_type": "code",
   "execution_count": 2,
   "metadata": {},
   "outputs": [],
   "source": [
    "# read cleaned data\n",
    "skin_care_df = pd.read_csv('../data_cleaning/skin_care_cleaned.csv')\n",
    "body_care_df = pd.read_csv('../data_cleaning/body_care_cleaned.csv')\n",
    "makeup_df = pd.read_csv('../data_cleaning/makeup_cleaned.csv')\n",
    "\n",
    "# merge skin-care, body-care and makeup table\n",
    "df = pd.concat([skin_care_df,body_care_df,makeup_df], sort=False).reset_index(drop=True)\n",
    "\n",
    "# drop outlier\n",
    "df = df.loc[df['price']<300].reset_index(drop=True)"
   ]
  },
  {
   "cell_type": "markdown",
   "metadata": {},
   "source": [
    "#### Add more features\n",
    "* Count ingredients that are \"xxx extract\", peptide, \"xxx oil\" --- these are special categories we found in EDA that may be associated with price.\n",
    "* Individule ingredient binary count --- the matrix is sparse and has too many columns, we cannot use it directly, so we will use chi2 test to pick a few that are important.\n",
    "* Similar to the idea of tf-idf, we can turn our individule ingredient count to \"if-ipf\"(ingredient frequency - inverse product frequency), which penalize common ingredients. Then we use NMF to get 50 compenents as features."
   ]
  },
  {
   "cell_type": "code",
   "execution_count": 3,
   "metadata": {},
   "outputs": [
    {
     "name": "stderr",
     "output_type": "stream",
     "text": [
      "/usr/local/Cellar/python/3.6.5/Frameworks/Python.framework/Versions/3.6/lib/python3.6/site-packages/scipy/stats/contingency.py:242: RuntimeWarning: invalid value encountered in less\n",
      "  if np.any(observed < 0):\n"
     ]
    },
    {
     "name": "stdout",
     "output_type": "stream",
     "text": [
      "individule ingredient picked ['acetyl hexapeptide-8' 'algae extract' 'caffeine'\n",
      " 'palmitoyl oligopeptide' 'hydrogenated lecithin' 'alpha isomethyl ionone'\n",
      " 'trehalose' 'linoleic acid' 'phospholipid' 'PEG-8' 'polysilicone-11'\n",
      " 'butylparaben' 'palmitoyl tetrapeptide-7' 'retinol'\n",
      " 'tetrahexyldecyl ascorbate' 'urea' 'ascorbyl palmitate' 'polysaccharide'\n",
      " 'bromelain' 'hydrolyzed wheat protein' 'Palmitoyl Tripeptide-38'\n",
      " 'hydrolyzed algae extract' 'Calluna vulgaris flower extract'\n",
      " 'butylphenyl methylpropional' 'lysine' 'acetyl glucosamine'\n",
      " 'sodium metabisulfite' 'acetic acid' 'glycolic acid' 'polysorbate 80'\n",
      " 'Scutellaria baicalensis extract' 'isobutylparaben'\n",
      " 'hydrolyzed soy protein' 'arginine' 'polymethylsilsesquioxane'\n",
      " 'DMDM hydantoin' 'cholesterol' 'glyceryl polymethacrylate'\n",
      " 'sorbitan stearate' 'petrolatum' 'dipotassium glycyrrhizate'\n",
      " 'propylene glycol dicaprylate' 'cyclohexasiloxane' 'sorbitol'\n",
      " 'saccharide isomerate' 'phenyl trimethicone' 'grape seed extract'\n",
      " 'sucrose' 'sodium gluconate' 'retinyl retinoate']\n"
     ]
    },
    {
     "data": {
      "text/html": [
       "<div>\n",
       "<style scoped>\n",
       "    .dataframe tbody tr th:only-of-type {\n",
       "        vertical-align: middle;\n",
       "    }\n",
       "\n",
       "    .dataframe tbody tr th {\n",
       "        vertical-align: top;\n",
       "    }\n",
       "\n",
       "    .dataframe thead th {\n",
       "        text-align: right;\n",
       "    }\n",
       "</style>\n",
       "<table border=\"1\" class=\"dataframe\">\n",
       "  <thead>\n",
       "    <tr style=\"text-align: right;\">\n",
       "      <th></th>\n",
       "      <th>product_names</th>\n",
       "      <th>product_category</th>\n",
       "      <th>brand</th>\n",
       "      <th>ingredient</th>\n",
       "      <th>size</th>\n",
       "      <th>price</th>\n",
       "      <th>size_num</th>\n",
       "      <th>size_unit</th>\n",
       "      <th>avg_price</th>\n",
       "      <th>active_ingredient</th>\n",
       "      <th>...</th>\n",
       "      <th>dipotassium glycyrrhizate</th>\n",
       "      <th>propylene glycol dicaprylate</th>\n",
       "      <th>cyclohexasiloxane</th>\n",
       "      <th>sorbitol</th>\n",
       "      <th>saccharide isomerate</th>\n",
       "      <th>phenyl trimethicone</th>\n",
       "      <th>grape seed extract</th>\n",
       "      <th>sucrose</th>\n",
       "      <th>sodium gluconate</th>\n",
       "      <th>retinyl retinoate</th>\n",
       "    </tr>\n",
       "  </thead>\n",
       "  <tbody>\n",
       "    <tr>\n",
       "      <th>0</th>\n",
       "      <td>Clear Complexion Spot Treatment</td>\n",
       "      <td>Acne &amp; Blemish Treatment</td>\n",
       "      <td>Merle Norman</td>\n",
       "      <td>Active: Salicylic Acid (2%),  Other: Alcohol D...</td>\n",
       "      <td>0.50 fl. oz.</td>\n",
       "      <td>20.00</td>\n",
       "      <td>15.0</td>\n",
       "      <td>ml</td>\n",
       "      <td>1.333333</td>\n",
       "      <td>Salicylic Acid (2%),</td>\n",
       "      <td>...</td>\n",
       "      <td>0</td>\n",
       "      <td>0</td>\n",
       "      <td>0</td>\n",
       "      <td>0</td>\n",
       "      <td>0</td>\n",
       "      <td>0</td>\n",
       "      <td>0</td>\n",
       "      <td>0</td>\n",
       "      <td>0</td>\n",
       "      <td>0</td>\n",
       "    </tr>\n",
       "    <tr>\n",
       "      <th>1</th>\n",
       "      <td>Acne Solutions Emergency Gel Lotion</td>\n",
       "      <td>Acne &amp; Blemish Treatment</td>\n",
       "      <td>Clinique</td>\n",
       "      <td>Active: Benzoyl Peroxide (5%),  Other: Water P...</td>\n",
       "      <td>0.50 fl. oz.</td>\n",
       "      <td>17.00</td>\n",
       "      <td>15.0</td>\n",
       "      <td>ml</td>\n",
       "      <td>1.133333</td>\n",
       "      <td>Benzoyl Peroxide (5%),</td>\n",
       "      <td>...</td>\n",
       "      <td>0</td>\n",
       "      <td>0</td>\n",
       "      <td>0</td>\n",
       "      <td>0</td>\n",
       "      <td>0</td>\n",
       "      <td>0</td>\n",
       "      <td>0</td>\n",
       "      <td>1</td>\n",
       "      <td>0</td>\n",
       "      <td>0</td>\n",
       "    </tr>\n",
       "    <tr>\n",
       "      <th>2</th>\n",
       "      <td>RESIST Daily Pore-Refining Solution 2% BHA</td>\n",
       "      <td>Acne &amp; Blemish Treatment</td>\n",
       "      <td>Paula's Choice Skincare</td>\n",
       "      <td>Water (Aqua),  Dipropylene Glycol,  Salicylic ...</td>\n",
       "      <td>3.00 fl. oz.</td>\n",
       "      <td>33.00</td>\n",
       "      <td>89.0</td>\n",
       "      <td>ml</td>\n",
       "      <td>0.370787</td>\n",
       "      <td>NaN</td>\n",
       "      <td>...</td>\n",
       "      <td>1</td>\n",
       "      <td>0</td>\n",
       "      <td>0</td>\n",
       "      <td>0</td>\n",
       "      <td>0</td>\n",
       "      <td>0</td>\n",
       "      <td>0</td>\n",
       "      <td>0</td>\n",
       "      <td>0</td>\n",
       "      <td>0</td>\n",
       "    </tr>\n",
       "    <tr>\n",
       "      <th>3</th>\n",
       "      <td>Max Complexion Correction Pads</td>\n",
       "      <td>Acne &amp; Blemish Treatment</td>\n",
       "      <td>Peter Thomas Roth</td>\n",
       "      <td>Active: Salicylic Acid (2%),  Other: Alcohol D...</td>\n",
       "      <td>60.00</td>\n",
       "      <td>40.00</td>\n",
       "      <td>60.0</td>\n",
       "      <td>NaN</td>\n",
       "      <td>0.666667</td>\n",
       "      <td>Salicylic Acid (2%),</td>\n",
       "      <td>...</td>\n",
       "      <td>0</td>\n",
       "      <td>0</td>\n",
       "      <td>0</td>\n",
       "      <td>0</td>\n",
       "      <td>0</td>\n",
       "      <td>0</td>\n",
       "      <td>0</td>\n",
       "      <td>0</td>\n",
       "      <td>0</td>\n",
       "      <td>0</td>\n",
       "    </tr>\n",
       "    <tr>\n",
       "      <th>4</th>\n",
       "      <td>Naturals Acne Spot Treatment</td>\n",
       "      <td>Acne &amp; Blemish Treatment</td>\n",
       "      <td>Neutrogena</td>\n",
       "      <td>Active Ingredient: Salicylic Acid 1%. Inactive...</td>\n",
       "      <td>0.75 fl. oz.</td>\n",
       "      <td>8.49</td>\n",
       "      <td>22.0</td>\n",
       "      <td>ml</td>\n",
       "      <td>0.385909</td>\n",
       "      <td>Salicylic Acid 1%.</td>\n",
       "      <td>...</td>\n",
       "      <td>0</td>\n",
       "      <td>0</td>\n",
       "      <td>0</td>\n",
       "      <td>0</td>\n",
       "      <td>0</td>\n",
       "      <td>0</td>\n",
       "      <td>0</td>\n",
       "      <td>0</td>\n",
       "      <td>0</td>\n",
       "      <td>0</td>\n",
       "    </tr>\n",
       "  </tbody>\n",
       "</table>\n",
       "<p>5 rows × 191 columns</p>\n",
       "</div>"
      ],
      "text/plain": [
       "                                product_names          product_category  \\\n",
       "0             Clear Complexion Spot Treatment  Acne & Blemish Treatment   \n",
       "1         Acne Solutions Emergency Gel Lotion  Acne & Blemish Treatment   \n",
       "2  RESIST Daily Pore-Refining Solution 2% BHA  Acne & Blemish Treatment   \n",
       "3              Max Complexion Correction Pads  Acne & Blemish Treatment   \n",
       "4                Naturals Acne Spot Treatment  Acne & Blemish Treatment   \n",
       "\n",
       "                     brand                                         ingredient  \\\n",
       "0             Merle Norman  Active: Salicylic Acid (2%),  Other: Alcohol D...   \n",
       "1                 Clinique  Active: Benzoyl Peroxide (5%),  Other: Water P...   \n",
       "2  Paula's Choice Skincare  Water (Aqua),  Dipropylene Glycol,  Salicylic ...   \n",
       "3        Peter Thomas Roth  Active: Salicylic Acid (2%),  Other: Alcohol D...   \n",
       "4               Neutrogena  Active Ingredient: Salicylic Acid 1%. Inactive...   \n",
       "\n",
       "           size  price  size_num size_unit  avg_price  \\\n",
       "0  0.50 fl. oz.  20.00      15.0        ml   1.333333   \n",
       "1  0.50 fl. oz.  17.00      15.0        ml   1.133333   \n",
       "2  3.00 fl. oz.  33.00      89.0        ml   0.370787   \n",
       "3        60.00   40.00      60.0       NaN   0.666667   \n",
       "4  0.75 fl. oz.   8.49      22.0        ml   0.385909   \n",
       "\n",
       "           active_ingredient        ...        dipotassium glycyrrhizate  \\\n",
       "0     Salicylic Acid (2%),          ...                                0   \n",
       "1   Benzoyl Peroxide (5%),          ...                                0   \n",
       "2                        NaN        ...                                1   \n",
       "3     Salicylic Acid (2%),          ...                                0   \n",
       "4        Salicylic Acid 1%.         ...                                0   \n",
       "\n",
       "  propylene glycol dicaprylate cyclohexasiloxane  sorbitol  \\\n",
       "0                            0                 0         0   \n",
       "1                            0                 0         0   \n",
       "2                            0                 0         0   \n",
       "3                            0                 0         0   \n",
       "4                            0                 0         0   \n",
       "\n",
       "   saccharide isomerate  phenyl trimethicone grape seed extract sucrose  \\\n",
       "0                     0                    0                  0       0   \n",
       "1                     0                    0                  0       1   \n",
       "2                     0                    0                  0       0   \n",
       "3                     0                    0                  0       0   \n",
       "4                     0                    0                  0       0   \n",
       "\n",
       "  sodium gluconate retinyl retinoate  \n",
       "0                0                 0  \n",
       "1                0                 0  \n",
       "2                0                 0  \n",
       "3                0                 0  \n",
       "4                0                 0  \n",
       "\n",
       "[5 rows x 191 columns]"
      ]
     },
     "execution_count": 3,
     "metadata": {},
     "output_type": "execute_result"
    }
   ],
   "source": [
    "# count ingredients that that are \"xxx extract\", peptide, \"xxx oil\"\n",
    "df['count_extract'] = df['inactive_ingredient_list'].apply(count_pattern, pattern='extract')\n",
    "df['count_peptide'] = df['inactive_ingredient_list'].apply(count_pattern, pattern='peptide')\n",
    "df['count_oil'] = df['inactive_ingredient_list'].apply(count_pattern, pattern='oil')\n",
    "\n",
    "# count ingredient\n",
    "ingredient_count_df = get_matching_ingredient_count(df)\n",
    "\n",
    "# select important individule ingredient using chi-square test\n",
    "interesting_ingredients = []\n",
    "for col in ingredient_count_df.columns.values:\n",
    "    count_ingredient = ingredient_count_df[col].sum()\n",
    "    if count_ingredient > 100 and count_ingredient < 500:\n",
    "       interesting_ingredients.append(col) \n",
    "    \n",
    "price_band, bins = pd.qcut(df['price'], q=[0, 0.2, 0.4, 0.6, 0.8, 1], labels=False, retbins=True)\n",
    "ingredient_count_df['price_band'] = price_band.reset_index(drop=True)\n",
    "\n",
    "results = chi2_contingency(ingredient_count_df, interesting_ingredients, 'price_band').sort_values('p-value')\n",
    "top_ingredients = results.index.values[:50]\n",
    "print(\"individule ingredient picked:\\n\", top_ingredients)\n",
    "\n",
    "# create \"if-ipf\"(ingredient frequency - inverse product frequency) and use 50 NMF compenents as features\n",
    "if_ipf = TfidfTransformer().fit_transform(ingredient_count_df)\n",
    "if_ipf_nmf = NMF(n_components=50).fit_transform(if_ipf)\n",
    "if_ipf_nmf_df = pd.DataFrame(if_ipf_nmf)\n",
    "if_ipf_nmf_df = if_ipf_nmf_df.add_prefix('if_pif_nmf_') \n",
    "\n",
    "# merge the new features to dataframe\n",
    "df = pd.concat([df, if_ipf_nmf_df, ingredient_count_df[top_ingredients]], axis=1)\n",
    "df.head()"
   ]
  },
  {
   "cell_type": "code",
   "execution_count": 4,
   "metadata": {},
   "outputs": [],
   "source": [
    "target = 'price'\n",
    "meanenc_feats = ['product_category', 'brand', 'size_unit']\n",
    "gen_features = ['product_category_mean_encode', 'brand_mean_encode', 'size_num', 'size_unit_mean_encode']\n",
    "ingredient_features = ['n_inactive_ingredient','n_active_ingredient','active_mean_rating', 'inactive_mean_rating', 'inactive_mean_rating_w1','inactive_mean_rating_w2']\n",
    "ingredient_features += [f_ for f_ in df.columns.values if f_.find('count')>=0]\n",
    "ingredient_features += [f_ for f_ in df.columns.values if f_.find('_nmf_')>=0]\n",
    "ingredient_features += list(top_ingredients)"
   ]
  },
  {
   "cell_type": "markdown",
   "metadata": {},
   "source": [
    "#### target encoding categorical features"
   ]
  },
  {
   "cell_type": "code",
   "execution_count": 5,
   "metadata": {},
   "outputs": [
    {
     "name": "stderr",
     "output_type": "stream",
     "text": [
      "../utilities/ml_utils.py:161: RuntimeWarning: overflow encountered in exp\n",
      "  smoothing = 1 / (1 + np.exp(-(averages[\"count\"] - min_samples_leaf) / smoothing))\n"
     ]
    }
   ],
   "source": [
    "train, test = train_test_split(df)\n",
    "folds = KFold(5, random_state=777)\n",
    "\n",
    "pd.options.mode.chained_assignment = None\n",
    "for col in meanenc_feats:\n",
    "    train[col+'_mean_encode'] = 0.\n",
    "    test[col+'_mean_encode'] = 0.\n",
    "    SMOOTHING = test[~test[col].isin(train[col])].shape[0]/test.shape[0]\n",
    "    _, test[col+'_mean_encode'] = target_encode(train[col], \n",
    "                                      test[col], \n",
    "                                      target=train[target], \n",
    "                                      min_samples_leaf=20,\n",
    "                                      smoothing=SMOOTHING,\n",
    "                                      noise_level=0.02)\n",
    "    for f, (vis_index, blind_index) in enumerate(folds.split(train, train[target])):\n",
    "        _, train[col+'_mean_encode'].iloc[blind_index] = target_encode(train[col].iloc[vis_index], \n",
    "                                                            train[col].iloc[blind_index], \n",
    "                                                            target=train[target].iloc[vis_index], \n",
    "                                                            min_samples_leaf=20,\n",
    "                                                            smoothing=SMOOTHING,\n",
    "                                                            noise_level=0.02)     \n",
    "        \n"
   ]
  },
  {
   "cell_type": "markdown",
   "metadata": {},
   "source": [
    "#### First let's build a baseline model just using brand, category, size features."
   ]
  },
  {
   "cell_type": "code",
   "execution_count": 6,
   "metadata": {},
   "outputs": [
    {
     "name": "stdout",
     "output_type": "stream",
     "text": [
      "number of features: 4\n",
      "rmse: (train cv) 24.560, (test) 21.362\n",
      "explained variance: (train cv) 0.470, (test) 0.541\n"
     ]
    }
   ],
   "source": [
    "features = gen_features\n",
    "X_train, y_train = train[features], train[target]\n",
    "X_test, y_test = test[features], test[target]\n",
    "\n",
    "model = LGBMRegressor(n_estimators=100, max_depth=4, learning_rate=0.1, lambda_l2=0.1)\n",
    "y_train_pred = oof_preds(X_train.values, y_train.values, model, folds=folds, return_prob=False)\n",
    "\n",
    "model.fit(X_train, y_train)\n",
    "y_test_pred = model.predict(X_test)\n",
    "\n",
    "rmse_train = np.sqrt(mean_squared_error(y_train, y_train_pred))\n",
    "rmse_test = np.sqrt(mean_squared_error(y_test, y_test_pred))\n",
    "\n",
    "ev_train = explained_variance_score(y_train, y_train_pred)\n",
    "ev_test = explained_variance_score(y_test, y_test_pred)\n",
    "\n",
    "print(\"number of features:\",len(features))\n",
    "print(\"rmse: (train cv) %.3f, (test) %.3f\"%(rmse_train, rmse_test))\n",
    "print(\"explained variance: (train cv) %.3f, (test) %.3f\"%(ev_train, ev_test))"
   ]
  },
  {
   "cell_type": "markdown",
   "metadata": {},
   "source": [
    "#### Use ingredient features to train the model"
   ]
  },
  {
   "cell_type": "code",
   "execution_count": 7,
   "metadata": {},
   "outputs": [
    {
     "name": "stdout",
     "output_type": "stream",
     "text": [
      "number of features: 171\n",
      "rmse: (train cv) 19.747, (test) 18.223\n",
      "explained variance: (train cv) 0.657, (test) 0.666\n"
     ]
    }
   ],
   "source": [
    "features = ingredient_features\n",
    "X_train, y_train = train[features], train[target]\n",
    "X_test, y_test = test[features], test[target]\n",
    "\n",
    "model = LGBMRegressor(n_estimators=200, max_depth=5, learning_rate=0.1, lambda_l2=0.1)\n",
    "y_train_pred = oof_preds(X_train.values, y_train.values, model, folds=folds, return_prob=False)\n",
    "\n",
    "model.fit(X_train, y_train)\n",
    "y_test_pred = model.predict(X_test)\n",
    "\n",
    "rmse_train = np.sqrt(mean_squared_error(y_train, y_train_pred))\n",
    "rmse_test = np.sqrt(mean_squared_error(y_test, y_test_pred))\n",
    "\n",
    "ev_train = explained_variance_score(y_train, y_train_pred)\n",
    "ev_test = explained_variance_score(y_test, y_test_pred)\n",
    "\n",
    "print(\"number of features:\",len(features))\n",
    "print(\"rmse: (train cv) %.3f, (test) %.3f\"%(rmse_train, rmse_test))\n",
    "print(\"explained variance: (train cv) %.3f, (test) %.3f\"%(ev_train, ev_test))"
   ]
  },
  {
   "cell_type": "markdown",
   "metadata": {},
   "source": [
    "#### Now use all features, and see how much can they improve our model"
   ]
  },
  {
   "cell_type": "code",
   "execution_count": 8,
   "metadata": {},
   "outputs": [
    {
     "name": "stdout",
     "output_type": "stream",
     "text": [
      "number of features: 175\n",
      "rmse: (train cv) 18.579, (test) 16.261\n",
      "explained variance: (train cv) 0.697, (test) 0.734\n"
     ]
    }
   ],
   "source": [
    "features = gen_features + ingredient_features\n",
    "X_train, y_train = train[features], train[target]\n",
    "X_test, y_test = test[features], test[target]\n",
    "\n",
    "model = LGBMRegressor(n_estimators=200, max_depth=5, learning_rate=0.1, lambda_l2=0.1)\n",
    "y_train_pred = oof_preds(X_train.values, y_train.values, model, folds=folds, return_prob=False)\n",
    "\n",
    "model.fit(X_train, y_train)\n",
    "y_test_pred = model.predict(X_test)\n",
    "\n",
    "rmse_train = np.sqrt(mean_squared_error(y_train, y_train_pred))\n",
    "rmse_test = np.sqrt(mean_squared_error(y_test, y_test_pred))\n",
    "\n",
    "ev_train = explained_variance_score(y_train, y_train_pred)\n",
    "ev_test = explained_variance_score(y_test, y_test_pred)\n",
    "\n",
    "print(\"number of features:\",len(features))\n",
    "print(\"rmse: (train cv) %.3f, (test) %.3f\"%(rmse_train, rmse_test))\n",
    "print(\"explained variance: (train cv) %.3f, (test) %.3f\"%(ev_train, ev_test))"
   ]
  },
  {
   "cell_type": "markdown",
   "metadata": {},
   "source": [
    "#### scatter plot for predicted vs. true price"
   ]
  },
  {
   "cell_type": "code",
   "execution_count": 9,
   "metadata": {},
   "outputs": [
    {
     "data": {
      "image/png": "[encoded data removed]",
      "text/plain": [
       "<Figure size 504x504 with 1 Axes>"
      ]
     },
     "metadata": {
      "needs_background": "light"
     },
     "output_type": "display_data"
    }
   ],
   "source": [
    "plt.figure(figsize=(7,7))\n",
    "plt.scatter(y_test, y_test_pred, marker='.')\n",
    "plt.plot([0,300],[0,300],color='r')\n",
    "plt.axis('equal')\n",
    "plt.xlim(0,300)\n",
    "plt.ylim(0,300)\n",
    "plt.xlabel('true price',fontsize=16)\n",
    "plt.ylabel('predicted price',fontsize=16)\n",
    "plt.show()"
   ]
  },
  {
   "cell_type": "markdown",
   "metadata": {},
   "source": [
    "#### Plot feature importance"
   ]
  },
  {
   "cell_type": "code",
   "execution_count": 10,
   "metadata": {},
   "outputs": [
    {
     "data": {
      "image/png": "[encoded data removed]",
      "text/plain": [
       "<Figure size 360x864 with 1 Axes>"
      ]
     },
     "metadata": {
      "needs_background": "light"
     },
     "output_type": "display_data"
    }
   ],
   "source": [
    "feature_importance_df = pd.DataFrame()\n",
    "feature_importance_df['feature'] = features\n",
    "feature_importance_df['feature importance'] = model.feature_importances_\n",
    "feature_importance_df = feature_importance_df.sort_values('feature importance', ascending=False)\n",
    "plt.figure(figsize=(5,12))\n",
    "sns.barplot(x='feature importance', y='feature', data=feature_importance_df.iloc[:30])\n",
    "plt.show()"
   ]
  },
  {
   "cell_type": "code",
   "execution_count": null,
   "metadata": {},
   "outputs": [],
   "source": []
  }
 ],
 "metadata": {
  "kernelspec": {
   "display_name": "Python 3",
   "language": "python",
   "name": "python3"
  },
  "language_info": {
   "codemirror_mode": {
    "name": "ipython",
    "version": 3
   },
   "file_extension": ".py",
   "mimetype": "text/x-python",
   "name": "python",
   "nbconvert_exporter": "python",
   "pygments_lexer": "ipython3",
   "version": "3.6.5"
  }
 },
 "nbformat": 4,
 "nbformat_minor": 2
}
