{
 "cells": [
  {
   "cell_type": "markdown",
   "metadata": {},
   "source": [
    "# Price Regression"
   ]
  },
  {
   "cell_type": "code",
   "execution_count": 25,
   "metadata": {},
   "outputs": [],
   "source": [
    "import pandas as pd\n",
    "import matplotlib.pyplot as plt\n",
    "import seaborn as sns\n",
    "from xgboost import XGBRegressor\n",
    "#from lightgbm import LGBMRegressor\n",
    "from sklearn.naive_bayes import BernoulliNB, MultinomialNB\n",
    "from sklearn.ensemble import RandomForestClassifier\n",
    "from sklearn.model_selection import train_test_split, KFold\n",
    "from sklearn.metrics import mean_squared_error\n",
    "import itertools\n",
    "\n",
    "import sys\n",
    "sys.path.append('../utilities')\n",
    "from data_utils import *\n",
    "from ml_utils import *"
   ]
  },
  {
   "cell_type": "code",
   "execution_count": 2,
   "metadata": {},
   "outputs": [],
   "source": [
    "# read cleaned data\n",
    "skin_care_df = pd.read_csv('../data_cleaning/skin_care_cleaned.csv')\n",
    "body_care_df = pd.read_csv('../data_cleaning/body_care_cleaned.csv')\n",
    "makeup_df = pd.read_csv('../data_cleaning/makeup_cleaned.csv')\n",
    "\n",
    "# merge skin-care, body-care and makeup table\n",
    "df = pd.concat([skin_care_df,body_care_df,makeup_df], sort=False).reset_index(drop=True)\n",
    "\n",
    "df = df.loc[df['price']<1000]\n",
    "\n",
    "df['count_extract'] = df['inactive_ingredient_list'].apply(count_pattern, pattern='extract')\n",
    "df['count_peptide'] = df['inactive_ingredient_list'].apply(count_pattern, pattern='peptide')\n",
    "df['count_oil'] = df['inactive_ingredient_list'].apply(count_pattern, pattern='oil')"
   ]
  },
  {
   "cell_type": "code",
   "execution_count": 19,
   "metadata": {},
   "outputs": [],
   "source": [
    "target = 'price'\n",
    "meanenc_feats = ['product_category', 'brand', 'size_unit']\n",
    "gen_features = ['product_category_mean_encode', 'brand_mean_encode', 'size_num', 'size_unit_mean_encode']\n",
    "ingredient_features = ['n_inactive_ingredient','n_active_ingredient','active_mean_rating', 'inactive_mean_rating', 'inactive_mean_rating_w1','inactive_mean_rating_w2']\n",
    "ingredient_features += [f_ for f_ in df.columns.values if f_.find('count')>=0]"
   ]
  },
  {
   "cell_type": "code",
   "execution_count": 20,
   "metadata": {},
   "outputs": [
    {
     "name": "stderr",
     "output_type": "stream",
     "text": [
      "/Library/Frameworks/Python.framework/Versions/3.6/lib/python3.6/site-packages/ipykernel_launcher.py:5: SettingWithCopyWarning: \n",
      "A value is trying to be set on a copy of a slice from a DataFrame.\n",
      "Try using .loc[row_indexer,col_indexer] = value instead\n",
      "\n",
      "See the caveats in the documentation: http://pandas.pydata.org/pandas-docs/stable/indexing.html#indexing-view-versus-copy\n",
      "  \"\"\"\n",
      "/Library/Frameworks/Python.framework/Versions/3.6/lib/python3.6/site-packages/ipykernel_launcher.py:6: SettingWithCopyWarning: \n",
      "A value is trying to be set on a copy of a slice from a DataFrame.\n",
      "Try using .loc[row_indexer,col_indexer] = value instead\n",
      "\n",
      "See the caveats in the documentation: http://pandas.pydata.org/pandas-docs/stable/indexing.html#indexing-view-versus-copy\n",
      "  \n",
      "/Library/Frameworks/Python.framework/Versions/3.6/lib/python3.6/site-packages/ipykernel_launcher.py:13: SettingWithCopyWarning: \n",
      "A value is trying to be set on a copy of a slice from a DataFrame.\n",
      "Try using .loc[row_indexer,col_indexer] = value instead\n",
      "\n",
      "See the caveats in the documentation: http://pandas.pydata.org/pandas-docs/stable/indexing.html#indexing-view-versus-copy\n",
      "  del sys.path[0]\n",
      "/Library/Frameworks/Python.framework/Versions/3.6/lib/python3.6/site-packages/pandas/core/indexing.py:189: SettingWithCopyWarning: \n",
      "A value is trying to be set on a copy of a slice from a DataFrame\n",
      "\n",
      "See the caveats in the documentation: http://pandas.pydata.org/pandas-docs/stable/indexing.html#indexing-view-versus-copy\n",
      "  self._setitem_with_indexer(indexer, value)\n",
      "/Library/Frameworks/Python.framework/Versions/3.6/lib/python3.6/site-packages/ipykernel_launcher.py:20: SettingWithCopyWarning: \n",
      "A value is trying to be set on a copy of a slice from a DataFrame\n",
      "\n",
      "See the caveats in the documentation: http://pandas.pydata.org/pandas-docs/stable/indexing.html#indexing-view-versus-copy\n",
      "../utilities/ml_utils.py:161: RuntimeWarning: overflow encountered in exp\n",
      "  smoothing = 1 / (1 + np.exp(-(averages[\"count\"] - min_samples_leaf) / smoothing))\n"
     ]
    }
   ],
   "source": [
    "train, test = train_test_split(df)\n",
    "folds = KFold(5, random_state=777)\n",
    "\n",
    "for col in meanenc_feats:\n",
    "    train[col+'_mean_encode'] = 0.\n",
    "    test[col+'_mean_encode'] = 0.\n",
    "    SMOOTHING = test[~test[col].isin(train[col])].shape[0]/test.shape[0]\n",
    "    _, test[col+'_mean_encode'] = target_encode(train[col], \n",
    "                                      test[col], \n",
    "                                      target=train[target], \n",
    "                                      min_samples_leaf=20,\n",
    "                                      smoothing=SMOOTHING,\n",
    "                                      noise_level=0.02)\n",
    "    for f, (vis_index, blind_index) in enumerate(folds.split(train, train[target])):\n",
    "        _, train[col+'_mean_encode'].iloc[blind_index] = target_encode(train[col].iloc[vis_index], \n",
    "                                                            train[col].iloc[blind_index], \n",
    "                                                            target=train[target].iloc[vis_index], \n",
    "                                                            min_samples_leaf=20,\n",
    "                                                            smoothing=SMOOTHING,\n",
    "                                                            noise_level=0.02)     \n",
    "        \n"
   ]
  },
  {
   "cell_type": "code",
   "execution_count": 36,
   "metadata": {},
   "outputs": [
    {
     "name": "stdout",
     "output_type": "stream",
     "text": [
      "rmse: (train cv) 29.676, (test) 31.254\n"
     ]
    }
   ],
   "source": [
    "features = gen_features\n",
    "X_train, y_train = train[features], train[target]\n",
    "X_test, y_test = test[features], test[target]\n",
    "\n",
    "model = XGBRegressor(n_estimators=200, max_depth=5, learning_rate=0.1)\n",
    "y_train_pred = oof_preds(X_train.values, y_train.values, model, folds=folds, return_prob=False)\n",
    "\n",
    "model.fit(X_train, y_train)\n",
    "y_test_pred = model.predict(X_test)\n",
    "\n",
    "rmse_train = np.sqrt(mean_squared_error(y_train, y_train_pred))\n",
    "rmse_test = np.sqrt(mean_squared_error(y_test, y_test_pred))\n",
    "\n",
    "print(\"rmse: (train cv) %.3f, (test) %.3f\"%(rmse_train, rmse_test))"
   ]
  },
  {
   "cell_type": "code",
   "execution_count": 37,
   "metadata": {},
   "outputs": [
    {
     "name": "stdout",
     "output_type": "stream",
     "text": [
      "rmse: (train cv) 27.399, (test) 26.064\n"
     ]
    }
   ],
   "source": [
    "features = gen_features + ingredient_features\n",
    "X_train, y_train = train[features], train[target]\n",
    "X_test, y_test = test[features], test[target]\n",
    "\n",
    "model = XGBRegressor(n_estimators=200, max_depth=5, learning_rate=0.1)\n",
    "y_train_pred = oof_preds(X_train.values, y_train.values, model, folds=folds, return_prob=False)\n",
    "\n",
    "model.fit(X_train, y_train)\n",
    "y_test_pred = model.predict(X_test)\n",
    "\n",
    "rmse_train = np.sqrt(mean_squared_error(y_train, y_train_pred))\n",
    "rmse_test = np.sqrt(mean_squared_error(y_test, y_test_pred))\n",
    "\n",
    "print(\"rmse: (train cv) %.3f, (test) %.3f\"%(rmse_train, rmse_test))"
   ]
  },
  {
   "cell_type": "code",
   "execution_count": null,
   "metadata": {},
   "outputs": [],
   "source": []
  }
 ],
 "metadata": {
  "kernelspec": {
   "display_name": "Python 3",
   "language": "python",
   "name": "python3"
  },
  "language_info": {
   "codemirror_mode": {
    "name": "ipython",
    "version": 3
   },
   "file_extension": ".py",
   "mimetype": "text/x-python",
   "name": "python",
   "nbconvert_exporter": "python",
   "pygments_lexer": "ipython3",
   "version": "3.6.5"
  }
 },
 "nbformat": 4,
 "nbformat_minor": 2
}
