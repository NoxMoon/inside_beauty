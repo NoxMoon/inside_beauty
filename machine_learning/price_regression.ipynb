{
 "cells": [
  {
   "cell_type": "markdown",
   "metadata": {},
   "source": [
    "# Price Regression\n",
    "\n",
    "In this notebook, we will try to predict a product's price with both ingredient and non-ingredient features, and assess the relative importance of ingredients in determining price versus other factors such as brand and packaging.\n",
    "\n",
    "Model pipeline:\n",
    "<img src=\"../documents/images/price_regression_flow_chart.png\" width=\"700\" />"
   ]
  },
  {
   "cell_type": "code",
   "execution_count": 1,
   "metadata": {},
   "outputs": [],
   "source": [
    "import pandas as pd\n",
    "import matplotlib.pyplot as plt\n",
    "import seaborn as sns\n",
    "from lightgbm import LGBMRegressor\n",
    "from sklearn.model_selection import train_test_split, KFold\n",
    "from sklearn.metrics import mean_squared_error, mean_absolute_error,explained_variance_score\n",
    "from sklearn.feature_extraction.text import TfidfTransformer\n",
    "from sklearn.decomposition import NMF\n",
    "from sklearn.pipeline import make_pipeline\n",
    "import itertools\n",
    "import gc\n",
    "\n",
    "import sys\n",
    "sys.path.append('../utilities')\n",
    "from data_utils import *\n",
    "from ml_utils import *\n",
    "from stats_utils import *"
   ]
  },
  {
   "cell_type": "markdown",
   "metadata": {},
   "source": [
    "#### Read and Prepare data\n",
    "\n",
    "We are going to predict all skin-care, body-care and makeup products. We will drop products with price higher than 300 for this study. In addition, since we want to say something about the ingredients' importance in determining the price, we also drop products without ingredient information."
   ]
  },
  {
   "cell_type": "code",
   "execution_count": 2,
   "metadata": {},
   "outputs": [
    {
     "data": {
      "text/plain": [
       "(6561, 88)"
      ]
     },
     "execution_count": 2,
     "metadata": {},
     "output_type": "execute_result"
    }
   ],
   "source": [
    "# read cleaned data\n",
    "skin_care_df = pd.read_csv('../data_cleaning/skin_care_cleaned.csv')\n",
    "body_care_df = pd.read_csv('../data_cleaning/body_care_cleaned.csv')\n",
    "makeup_df = pd.read_csv('../data_cleaning/makeup_cleaned.csv')\n",
    "\n",
    "# merge skin-care, body-care and makeup table\n",
    "df = pd.concat([skin_care_df,body_care_df,makeup_df], sort=False).reset_index(drop=True)\n",
    "\n",
    "# drop outlier\n",
    "df = df.loc[(df['price']<300)&(~df['ingredient'].isnull())].reset_index(drop=True)\n",
    "df.shape"
   ]
  },
  {
   "cell_type": "markdown",
   "metadata": {},
   "source": [
    "#### Merge image predictions to dataframe\n",
    "\n",
    "In packaging_to_price.ipynb, we predicted the price using product images. Here we merge the predictions as one feature to our dataset."
   ]
  },
  {
   "cell_type": "code",
   "execution_count": 3,
   "metadata": {},
   "outputs": [
    {
     "data": {
      "text/plain": [
       "21"
      ]
     },
     "execution_count": 3,
     "metadata": {},
     "output_type": "execute_result"
    }
   ],
   "source": [
    "cols = ['product_names','brand','predicted_price','fold']\n",
    "image_df = pd.read_csv('image_prediction.csv', usecols=cols) \n",
    "image_df.rename({'predicted_price':'image_price'},axis=1,inplace=True)\n",
    "df = df.merge(image_df.groupby(['product_names','brand']).first(), on=['product_names','brand'], how='left')\n",
    "del image_df\n",
    "gc.collect()"
   ]
  },
  {
   "cell_type": "markdown",
   "metadata": {},
   "source": [
    "#### Add more features\n",
    "* Count ingredients that are \"xxx extract\", peptide, \"xxx oil\" --- these are special categories we found in EDA that may be associated with price.\n",
    "* Individule ingredient binary count --- the matrix is sparse and has too many columns, we cannot use it directly, so we will use chi2 test to pick a few that are important.\n",
    "* Similar to the idea of tf-idf, we can turn our individule ingredient count to \"if-ipf\"(ingredient frequency - inverse product frequency), which penalize common ingredients. Then we use NMF to get 50 compenents as features.\n",
    "* Note while doing \"if-ipf\" and NMF, we only fit on training set, and then transform both train and test set."
   ]
  },
  {
   "cell_type": "code",
   "execution_count": 4,
   "metadata": {},
   "outputs": [
    {
     "name": "stderr",
     "output_type": "stream",
     "text": [
      "/usr/local/Cellar/python/3.6.5/Frameworks/Python.framework/Versions/3.6/lib/python3.6/site-packages/scipy/stats/contingency.py:242: RuntimeWarning: invalid value encountered in less\n",
      "  if np.any(observed < 0):\n"
     ]
    },
    {
     "name": "stdout",
     "output_type": "stream",
     "text": [
      "individule ingredient picked:\n",
      " ['acetyl hexapeptide-8' 'algae extract' 'yeast extract' 'caffeine'\n",
      " 'alpha isomethyl ionone' 'palmitoyl oligopeptide' 'DMDM hydantoin'\n",
      " 'hydrogenated lecithin' 'phospholipid' 'trehalose' 'petrolatum'\n",
      " 'linoleic acid' 'polysaccharide' 'tetrahexyldecyl ascorbate'\n",
      " 'palmitoyl tetrapeptide-7' 'butylparaben' 'PEG-8' 'polysilicone-11'\n",
      " 'retinol' 'urea' 'Palmitoyl Tripeptide-38' 'menthol'\n",
      " 'hydrolyzed algae extract' 'hydrolyzed wheat protein'\n",
      " 'cocamidopropyl betaine' 'hydrolyzed soy protein'\n",
      " 'Calluna vulgaris flower extract' 'acetyl glucosamine' 'red 27 lake'\n",
      " 'mineral oil' 'bromelain' 'ascorbyl palmitate' 'lysine' 'yellow 6 lake'\n",
      " 'sodium metabisulfite' 'polymethylsilsesquioxane' 'isobutylparaben'\n",
      " 'butylphenyl methylpropional' 'propylene glycol dicaprylate'\n",
      " 'polysorbate 80' 'hydroxypropyl cyclodextrin' 'glycolic acid'\n",
      " 'guar hydroxypropyltrimonium chloride' 'Scutellaria baicalensis extract'\n",
      " 'sodium gluconate' 'acetic acid' 'arginine' 'shea butter'\n",
      " 'glyceryl polymethacrylate' 'grape seed extract']\n"
     ]
    },
    {
     "data": {
      "text/html": [
       "<div>\n",
       "<style scoped>\n",
       "    .dataframe tbody tr th:only-of-type {\n",
       "        vertical-align: middle;\n",
       "    }\n",
       "\n",
       "    .dataframe tbody tr th {\n",
       "        vertical-align: top;\n",
       "    }\n",
       "\n",
       "    .dataframe thead th {\n",
       "        text-align: right;\n",
       "    }\n",
       "</style>\n",
       "<table border=\"1\" class=\"dataframe\">\n",
       "  <thead>\n",
       "    <tr style=\"text-align: right;\">\n",
       "      <th></th>\n",
       "      <th>product_names</th>\n",
       "      <th>product_category</th>\n",
       "      <th>brand</th>\n",
       "      <th>ingredient</th>\n",
       "      <th>size</th>\n",
       "      <th>price</th>\n",
       "      <th>size_num</th>\n",
       "      <th>size_unit</th>\n",
       "      <th>avg_price</th>\n",
       "      <th>active_ingredient</th>\n",
       "      <th>...</th>\n",
       "      <th>hydroxypropyl cyclodextrin</th>\n",
       "      <th>glycolic acid</th>\n",
       "      <th>guar hydroxypropyltrimonium chloride</th>\n",
       "      <th>Scutellaria baicalensis extract</th>\n",
       "      <th>sodium gluconate</th>\n",
       "      <th>acetic acid</th>\n",
       "      <th>arginine</th>\n",
       "      <th>shea butter</th>\n",
       "      <th>glyceryl polymethacrylate</th>\n",
       "      <th>grape seed extract</th>\n",
       "    </tr>\n",
       "  </thead>\n",
       "  <tbody>\n",
       "    <tr>\n",
       "      <th>0</th>\n",
       "      <td>Clear Complexion Spot Treatment</td>\n",
       "      <td>Acne &amp; Blemish Treatment</td>\n",
       "      <td>Merle Norman</td>\n",
       "      <td>Active: Salicylic Acid (2%),  Other: Alcohol D...</td>\n",
       "      <td>0.50 fl. oz.</td>\n",
       "      <td>20.00</td>\n",
       "      <td>15.0</td>\n",
       "      <td>ml</td>\n",
       "      <td>1.333333</td>\n",
       "      <td>Salicylic Acid (2%),</td>\n",
       "      <td>...</td>\n",
       "      <td>0</td>\n",
       "      <td>0</td>\n",
       "      <td>0</td>\n",
       "      <td>0</td>\n",
       "      <td>0</td>\n",
       "      <td>0</td>\n",
       "      <td>0</td>\n",
       "      <td>0</td>\n",
       "      <td>0</td>\n",
       "      <td>0</td>\n",
       "    </tr>\n",
       "    <tr>\n",
       "      <th>1</th>\n",
       "      <td>Acne Solutions Emergency Gel Lotion</td>\n",
       "      <td>Acne &amp; Blemish Treatment</td>\n",
       "      <td>Clinique</td>\n",
       "      <td>Active: Benzoyl Peroxide (5%),  Other: Water P...</td>\n",
       "      <td>0.50 fl. oz.</td>\n",
       "      <td>17.00</td>\n",
       "      <td>15.0</td>\n",
       "      <td>ml</td>\n",
       "      <td>1.133333</td>\n",
       "      <td>Benzoyl Peroxide (5%),</td>\n",
       "      <td>...</td>\n",
       "      <td>0</td>\n",
       "      <td>0</td>\n",
       "      <td>0</td>\n",
       "      <td>1</td>\n",
       "      <td>0</td>\n",
       "      <td>0</td>\n",
       "      <td>0</td>\n",
       "      <td>0</td>\n",
       "      <td>0</td>\n",
       "      <td>0</td>\n",
       "    </tr>\n",
       "    <tr>\n",
       "      <th>2</th>\n",
       "      <td>RESIST Daily Pore-Refining Solution 2% BHA</td>\n",
       "      <td>Acne &amp; Blemish Treatment</td>\n",
       "      <td>Paula's Choice Skincare</td>\n",
       "      <td>Water (Aqua),  Dipropylene Glycol,  Salicylic ...</td>\n",
       "      <td>3.00 fl. oz.</td>\n",
       "      <td>33.00</td>\n",
       "      <td>89.0</td>\n",
       "      <td>ml</td>\n",
       "      <td>0.370787</td>\n",
       "      <td>NaN</td>\n",
       "      <td>...</td>\n",
       "      <td>0</td>\n",
       "      <td>0</td>\n",
       "      <td>0</td>\n",
       "      <td>0</td>\n",
       "      <td>0</td>\n",
       "      <td>0</td>\n",
       "      <td>0</td>\n",
       "      <td>0</td>\n",
       "      <td>0</td>\n",
       "      <td>0</td>\n",
       "    </tr>\n",
       "    <tr>\n",
       "      <th>3</th>\n",
       "      <td>Max Complexion Correction Pads</td>\n",
       "      <td>Acne &amp; Blemish Treatment</td>\n",
       "      <td>Peter Thomas Roth</td>\n",
       "      <td>Active: Salicylic Acid (2%),  Other: Alcohol D...</td>\n",
       "      <td>60.00</td>\n",
       "      <td>40.00</td>\n",
       "      <td>60.0</td>\n",
       "      <td>NaN</td>\n",
       "      <td>0.666667</td>\n",
       "      <td>Salicylic Acid (2%),</td>\n",
       "      <td>...</td>\n",
       "      <td>0</td>\n",
       "      <td>1</td>\n",
       "      <td>0</td>\n",
       "      <td>0</td>\n",
       "      <td>0</td>\n",
       "      <td>0</td>\n",
       "      <td>1</td>\n",
       "      <td>0</td>\n",
       "      <td>0</td>\n",
       "      <td>0</td>\n",
       "    </tr>\n",
       "    <tr>\n",
       "      <th>4</th>\n",
       "      <td>Naturals Acne Spot Treatment</td>\n",
       "      <td>Acne &amp; Blemish Treatment</td>\n",
       "      <td>Neutrogena</td>\n",
       "      <td>Active Ingredient: Salicylic Acid 1%. Inactive...</td>\n",
       "      <td>0.75 fl. oz.</td>\n",
       "      <td>8.49</td>\n",
       "      <td>22.0</td>\n",
       "      <td>ml</td>\n",
       "      <td>0.385909</td>\n",
       "      <td>Salicylic Acid 1%.</td>\n",
       "      <td>...</td>\n",
       "      <td>0</td>\n",
       "      <td>0</td>\n",
       "      <td>0</td>\n",
       "      <td>0</td>\n",
       "      <td>0</td>\n",
       "      <td>0</td>\n",
       "      <td>0</td>\n",
       "      <td>0</td>\n",
       "      <td>0</td>\n",
       "      <td>0</td>\n",
       "    </tr>\n",
       "  </tbody>\n",
       "</table>\n",
       "<p>5 rows × 193 columns</p>\n",
       "</div>"
      ],
      "text/plain": [
       "                                product_names          product_category  \\\n",
       "0             Clear Complexion Spot Treatment  Acne & Blemish Treatment   \n",
       "1         Acne Solutions Emergency Gel Lotion  Acne & Blemish Treatment   \n",
       "2  RESIST Daily Pore-Refining Solution 2% BHA  Acne & Blemish Treatment   \n",
       "3              Max Complexion Correction Pads  Acne & Blemish Treatment   \n",
       "4                Naturals Acne Spot Treatment  Acne & Blemish Treatment   \n",
       "\n",
       "                     brand                                         ingredient  \\\n",
       "0             Merle Norman  Active: Salicylic Acid (2%),  Other: Alcohol D...   \n",
       "1                 Clinique  Active: Benzoyl Peroxide (5%),  Other: Water P...   \n",
       "2  Paula's Choice Skincare  Water (Aqua),  Dipropylene Glycol,  Salicylic ...   \n",
       "3        Peter Thomas Roth  Active: Salicylic Acid (2%),  Other: Alcohol D...   \n",
       "4               Neutrogena  Active Ingredient: Salicylic Acid 1%. Inactive...   \n",
       "\n",
       "           size  price  size_num size_unit  avg_price  \\\n",
       "0  0.50 fl. oz.  20.00      15.0        ml   1.333333   \n",
       "1  0.50 fl. oz.  17.00      15.0        ml   1.133333   \n",
       "2  3.00 fl. oz.  33.00      89.0        ml   0.370787   \n",
       "3        60.00   40.00      60.0       NaN   0.666667   \n",
       "4  0.75 fl. oz.   8.49      22.0        ml   0.385909   \n",
       "\n",
       "           active_ingredient        ...         hydroxypropyl cyclodextrin  \\\n",
       "0     Salicylic Acid (2%),          ...                                  0   \n",
       "1   Benzoyl Peroxide (5%),          ...                                  0   \n",
       "2                        NaN        ...                                  0   \n",
       "3     Salicylic Acid (2%),          ...                                  0   \n",
       "4        Salicylic Acid 1%.         ...                                  0   \n",
       "\n",
       "  glycolic acid guar hydroxypropyltrimonium chloride  \\\n",
       "0             0                                    0   \n",
       "1             0                                    0   \n",
       "2             0                                    0   \n",
       "3             1                                    0   \n",
       "4             0                                    0   \n",
       "\n",
       "   Scutellaria baicalensis extract  sodium gluconate  acetic acid arginine  \\\n",
       "0                                0                 0            0        0   \n",
       "1                                1                 0            0        0   \n",
       "2                                0                 0            0        0   \n",
       "3                                0                 0            0        1   \n",
       "4                                0                 0            0        0   \n",
       "\n",
       "  shea butter glyceryl polymethacrylate grape seed extract  \n",
       "0           0                         0                  0  \n",
       "1           0                         0                  0  \n",
       "2           0                         0                  0  \n",
       "3           0                         0                  0  \n",
       "4           0                         0                  0  \n",
       "\n",
       "[5 rows x 193 columns]"
      ]
     },
     "execution_count": 4,
     "metadata": {},
     "output_type": "execute_result"
    }
   ],
   "source": [
    "# count ingredients that that are \"xxx extract\", peptide, \"xxx oil\"\n",
    "df['count_extract'] = df['inactive_ingredient_list'].apply(count_pattern, pattern='extract')\n",
    "df['count_peptide'] = df['inactive_ingredient_list'].apply(count_pattern, pattern='peptide')\n",
    "df['count_oil'] = df['inactive_ingredient_list'].apply(count_pattern, pattern='oil')\n",
    "\n",
    "# count ingredient\n",
    "ingredient_count_df = get_matching_ingredient_count(df)\n",
    "\n",
    "# select important individule ingredient using chi-square test\n",
    "interesting_ingredients = []\n",
    "for col in ingredient_count_df.columns.values:\n",
    "    count_ingredient = ingredient_count_df[col].sum()\n",
    "    if count_ingredient > 100 and count_ingredient < 500:\n",
    "       interesting_ingredients.append(col) \n",
    "    \n",
    "price_band, bins = pd.qcut(df['price'], q=[0, 0.2, 0.4, 0.6, 0.8, 1], labels=False, retbins=True)\n",
    "ingredient_count_df['price_band'] = price_band.reset_index(drop=True)\n",
    "\n",
    "results = chi2_contingency(ingredient_count_df, interesting_ingredients, 'price_band').sort_values('p-value')\n",
    "top_ingredients = results.index.values[:50]\n",
    "print(\"individule ingredient picked:\\n\", top_ingredients)\n",
    "\n",
    "# create \"if-ipf\"(ingredient frequency - inverse product frequency) and use 50 NMF compenents as features\n",
    "ingredient_count_df.drop(['price_band'], axis=1, inplace=True)\n",
    "pipeline = make_pipeline(TfidfTransformer(),NMF(n_components=50))\n",
    "pipeline.fit(ingredient_count_df.loc[df['fold']!=-1])\n",
    "if_ipf_nmf = pipeline.transform(ingredient_count_df)\n",
    "if_ipf_nmf_df = pd.DataFrame(if_ipf_nmf)\n",
    "if_ipf_nmf_df = if_ipf_nmf_df.add_prefix('if_pif_nmf_') \n",
    "\n",
    "# merge the new features to dataframe\n",
    "df = pd.concat([df, if_ipf_nmf_df, ingredient_count_df[top_ingredients]], axis=1)\n",
    "df.head()"
   ]
  },
  {
   "cell_type": "markdown",
   "metadata": {},
   "source": [
    "#### Define feature set"
   ]
  },
  {
   "cell_type": "code",
   "execution_count": 5,
   "metadata": {},
   "outputs": [],
   "source": [
    "target = 'price'\n",
    "meanenc_feats = ['product_category', 'brand', 'size_unit']\n",
    "gen_features = ['product_category_mean_encode', 'brand_mean_encode', 'size_num', 'size_unit_mean_encode','image_price']\n",
    "ingredient_features = ['n_inactive_ingredient','n_active_ingredient','active_mean_rating', 'inactive_mean_rating', 'inactive_mean_rating_w1','inactive_mean_rating_w2']\n",
    "ingredient_features += [f_ for f_ in df.columns.values if f_.find('count')>=0]\n",
    "ingredient_features += [f_ for f_ in df.columns.values if f_.find('_nmf_')>=0]\n",
    "ingredient_features += list(top_ingredients)"
   ]
  },
  {
   "cell_type": "markdown",
   "metadata": {},
   "source": [
    "#### Custom KFolds\n",
    "We will use the same customized folds as we did in image-to-price prediction, so we define the custom_folds class that allows us to use it in place of KFolds. The class is initialized with predefined folds information (the series \"fold\") and returns indices when calling split()."
   ]
  },
  {
   "cell_type": "code",
   "execution_count": 6,
   "metadata": {},
   "outputs": [],
   "source": [
    "class custom_folds:\n",
    "    \n",
    "    def __init__(self, folds):\n",
    "        self.n_folds = folds.nunique()\n",
    "        self.folds = [list(np.where(folds.values==i)[0]) for i in range(self.n_folds)]\n",
    "        self.n_row = folds.shape[0]\n",
    "        \n",
    "    def split(self, dummy):\n",
    "        assert(dummy.shape[0] == self.n_row)\n",
    "        return ((self.train_idx(i), self.val_idx(i)) for i in range(self.n_folds))\n",
    "    \n",
    "    def train_idx(self, i):\n",
    "        idx = []\n",
    "        for n in range(self.n_folds):\n",
    "            if n!=i:\n",
    "                idx += self.folds[n]\n",
    "        \n",
    "        return list(set(idx))        \n",
    "        \n",
    "    def val_idx(self, i):\n",
    "        return self.folds[i]\n",
    "    \n",
    "train, test = df.loc[df['fold']!=-1], df.loc[df['fold']==-1]\n",
    "my_folds = custom_folds(train['fold'])"
   ]
  },
  {
   "cell_type": "markdown",
   "metadata": {},
   "source": [
    "#### target encoding categorical features\n",
    "\n",
    "The brand and product category are high-cardinal, target encoding would be the best to deal with them."
   ]
  },
  {
   "cell_type": "code",
   "execution_count": 7,
   "metadata": {},
   "outputs": [
    {
     "name": "stderr",
     "output_type": "stream",
     "text": [
      "../utilities/ml_utils.py:153: RuntimeWarning: overflow encountered in exp\n",
      "  smoothing = 1 / (1 + np.exp(-(averages[\"count\"] - min_samples_leaf) / smoothing))\n"
     ]
    }
   ],
   "source": [
    "pd.options.mode.chained_assignment = None\n",
    "for col in meanenc_feats:\n",
    "    train[col+'_mean_encode'] = 0.\n",
    "    test[col+'_mean_encode'] = 0.\n",
    "    SMOOTHING = test[~test[col].isin(train[col])].shape[0]/test.shape[0]\n",
    "    _, test[col+'_mean_encode'] = target_encode(train[col], \n",
    "                                      test[col], \n",
    "                                      target=train[target], \n",
    "                                      min_samples_leaf=10,\n",
    "                                      smoothing=SMOOTHING,\n",
    "                                      noise_level=0.02)\n",
    "    for f, (vis_index, blind_index) in enumerate(my_folds.split(train)):\n",
    "        _, train[col+'_mean_encode'].iloc[blind_index] = target_encode(train[col].iloc[vis_index], \n",
    "                                                            train[col].iloc[blind_index], \n",
    "                                                            target=train[target].iloc[vis_index], \n",
    "                                                            min_samples_leaf=10,\n",
    "                                                            smoothing=SMOOTHING,\n",
    "                                                            noise_level=0.02)     \n",
    "        \n"
   ]
  },
  {
   "cell_type": "markdown",
   "metadata": {},
   "source": [
    "#### Constant prediction\n",
    "Before we start training, let's checkout what is the error for constant prediction of mean price and median price. Mean would be the best constant prediction for RMSE, median would be the best constant prediction for MAE."
   ]
  },
  {
   "cell_type": "code",
   "execution_count": 8,
   "metadata": {},
   "outputs": [
    {
     "name": "stdout",
     "output_type": "stream",
     "text": [
      "rmse with mean prediction: (train) 35.677, (test) 33.077\n",
      "mae with median prediction: (train) 21.967, (test) 20.983\n"
     ]
    }
   ],
   "source": [
    "y_train, y_test = train[target], test[target]\n",
    "mean = y_train.mean()\n",
    "median = y_train.median()\n",
    "\n",
    "rmse_train = np.sqrt(mean_squared_error(y_train, np.ones([y_train.shape[0],])*mean))\n",
    "rmse_test = np.sqrt(mean_squared_error(y_test, np.ones([y_test.shape[0],])*mean))\n",
    "\n",
    "mae_train = mean_absolute_error(y_train, np.ones([y_train.shape[0],])*median)\n",
    "mae_test = mean_absolute_error(y_test, np.ones([y_test.shape[0],])*median)\n",
    "\n",
    "print(\"rmse with mean prediction: (train) %.3f, (test) %.3f\"%(rmse_train, rmse_test))\n",
    "print(\"mae with median prediction: (train) %.3f, (test) %.3f\"%(mae_train, mae_test))"
   ]
  },
  {
   "cell_type": "markdown",
   "metadata": {},
   "source": [
    "#### First let's build a baseline model with non-ingredient features --- just using brand, category, size and packaging (image predictions) features."
   ]
  },
  {
   "cell_type": "code",
   "execution_count": 9,
   "metadata": {},
   "outputs": [
    {
     "name": "stdout",
     "output_type": "stream",
     "text": [
      "number of features: 5\n",
      "rmse: (train cv) 22.280, (test) 18.629\n",
      "mae: (train cv) 12.322, (test) 10.875\n",
      "explained variance: (train cv) 0.610, (test) 0.683\n"
     ]
    }
   ],
   "source": [
    "features = gen_features\n",
    "X_train, y_train = train[features], train[target]\n",
    "X_test, y_test = test[features], test[target]\n",
    "\n",
    "model = LGBMRegressor(n_estimators=50, num_leaves=12, learning_rate=0.1, lambda_l2=0.1, random_state=777)\n",
    "y_train_pred_n = oof_preds(X_train.values, y_train.values, model, folds=my_folds, return_prob=False)\n",
    "\n",
    "model.fit(X_train, y_train)\n",
    "y_test_pred_n = model.predict(X_test)\n",
    "\n",
    "rmse_train = np.sqrt(mean_squared_error(y_train, y_train_pred_n))\n",
    "rmse_test = np.sqrt(mean_squared_error(y_test, y_test_pred_n))\n",
    "\n",
    "mae_train = mean_absolute_error(y_train, y_train_pred_n)\n",
    "mae_test = mean_absolute_error(y_test, y_test_pred_n)\n",
    "\n",
    "ev_train = explained_variance_score(y_train, y_train_pred_n)\n",
    "ev_test = explained_variance_score(y_test, y_test_pred_n)\n",
    "\n",
    "print(\"number of features:\",len(features))\n",
    "print(\"rmse: (train cv) %.3f, (test) %.3f\"%(rmse_train, rmse_test))\n",
    "print(\"mae: (train cv) %.3f, (test) %.3f\"%(mae_train, mae_test))\n",
    "print(\"explained variance: (train cv) %.3f, (test) %.3f\"%(ev_train, ev_test))"
   ]
  },
  {
   "cell_type": "markdown",
   "metadata": {},
   "source": [
    "#### Use ingredient features to train the model"
   ]
  },
  {
   "cell_type": "code",
   "execution_count": 10,
   "metadata": {},
   "outputs": [
    {
     "name": "stdout",
     "output_type": "stream",
     "text": [
      "number of features: 171\n",
      "rmse: (train cv) 27.445, (test) 24.803\n",
      "mae: (train cv) 17.130, (test) 16.298\n",
      "explained variance: (train cv) 0.408, (test) 0.438\n"
     ]
    }
   ],
   "source": [
    "features = ingredient_features\n",
    "X_train, y_train = train[features], train[target]\n",
    "X_test, y_test = test[features], test[target]\n",
    "\n",
    "model = LGBMRegressor(n_estimators=200, max_depth=7, num_leaves=24, learning_rate=0.1, lambda_l2=0.1, random_state=777)\n",
    "y_train_pred_i = oof_preds(X_train.values, y_train.values, model, folds=my_folds, return_prob=False)\n",
    "\n",
    "model.fit(X_train, y_train)\n",
    "y_test_pred_i = model.predict(X_test)\n",
    "\n",
    "rmse_train = np.sqrt(mean_squared_error(y_train, y_train_pred_i))\n",
    "rmse_test = np.sqrt(mean_squared_error(y_test, y_test_pred_i))\n",
    "\n",
    "mae_train = mean_absolute_error(y_train, y_train_pred_i)\n",
    "mae_test = mean_absolute_error(y_test, y_test_pred_i)\n",
    "\n",
    "ev_train = explained_variance_score(y_train, y_train_pred_i)\n",
    "ev_test = explained_variance_score(y_test, y_test_pred_i)\n",
    "\n",
    "print(\"number of features:\",len(features))\n",
    "print(\"rmse: (train cv) %.3f, (test) %.3f\"%(rmse_train, rmse_test))\n",
    "print(\"mae: (train cv) %.3f, (test) %.3f\"%(mae_train, mae_test))\n",
    "print(\"explained variance: (train cv) %.3f, (test) %.3f\"%(ev_train, ev_test))"
   ]
  },
  {
   "cell_type": "markdown",
   "metadata": {},
   "source": [
    "All ingredient features together achieve slightly lower accuracy than using non-ingredient features."
   ]
  },
  {
   "cell_type": "markdown",
   "metadata": {},
   "source": [
    "#### Now use all features, and see how much can they improve our model"
   ]
  },
  {
   "cell_type": "code",
   "execution_count": 11,
   "metadata": {},
   "outputs": [
    {
     "name": "stdout",
     "output_type": "stream",
     "text": [
      "number of features: 176\n",
      "rmse: (train cv) 21.393, (test) 17.100\n",
      "mae: (train cv) 11.692, (test) 10.257\n",
      "explained variance: (train cv) 0.640, (test) 0.732\n"
     ]
    }
   ],
   "source": [
    "features = gen_features + ingredient_features\n",
    "X_train, y_train = train[features], train[target]\n",
    "X_test, y_test = test[features], test[target]\n",
    "\n",
    "model = LGBMRegressor(n_estimators=200, max_depth=7, num_leaves=24, learning_rate=0.1, lambda_l2=0.1, random_state=777)\n",
    "y_train_pred = oof_preds(X_train.values, y_train.values, model, folds=my_folds, return_prob=False)\n",
    "\n",
    "model.fit(X_train, y_train)\n",
    "y_test_pred = model.predict(X_test)\n",
    "\n",
    "rmse_train = np.sqrt(mean_squared_error(y_train, y_train_pred))\n",
    "rmse_test = np.sqrt(mean_squared_error(y_test, y_test_pred))\n",
    "\n",
    "mae_train = mean_absolute_error(y_train, y_train_pred)\n",
    "mae_test = mean_absolute_error(y_test, y_test_pred)\n",
    "\n",
    "ev_train = explained_variance_score(y_train, y_train_pred)\n",
    "ev_test = explained_variance_score(y_test, y_test_pred)\n",
    "\n",
    "print(\"number of features:\",len(features))\n",
    "print(\"rmse: (train cv) %.3f, (test) %.3f\"%(rmse_train, rmse_test))\n",
    "print(\"mae: (train cv) %.3f, (test) %.3f\"%(mae_train, mae_test))\n",
    "print(\"explained variance: (train cv) %.3f, (test) %.3f\"%(ev_train, ev_test))"
   ]
  },
  {
   "cell_type": "markdown",
   "metadata": {},
   "source": [
    "With all features together, we are able to improve our model further."
   ]
  },
  {
   "cell_type": "markdown",
   "metadata": {},
   "source": [
    "#### scatter plot for predicted vs. true price"
   ]
  },
  {
   "cell_type": "code",
   "execution_count": 12,
   "metadata": {},
   "outputs": [
    {
     "data": {
      "image/png": "[encoded data removed]",
      "text/plain": [
       "<Figure size 504x504 with 1 Axes>"
      ]
     },
     "metadata": {
      "needs_background": "light"
     },
     "output_type": "display_data"
    }
   ],
   "source": [
    "plt.figure(figsize=(7,7))\n",
    "plt.scatter(y_test, y_test_pred, marker='.')\n",
    "plt.plot([0,300],[0,300],color='r')\n",
    "plt.axis('equal')\n",
    "plt.xlim(0,300)\n",
    "plt.ylim(0,300)\n",
    "plt.xlabel('true price',fontsize=16)\n",
    "plt.ylabel('predicted price',fontsize=16)\n",
    "plt.show()"
   ]
  },
  {
   "cell_type": "markdown",
   "metadata": {},
   "source": [
    "For very expensive products, our model tend to underestimate the price."
   ]
  },
  {
   "cell_type": "markdown",
   "metadata": {},
   "source": [
    "#### Plot feature importance"
   ]
  },
  {
   "cell_type": "code",
   "execution_count": 13,
   "metadata": {},
   "outputs": [
    {
     "data": {
      "image/png": "[encoded data removed]",
      "text/plain": [
       "<Figure size 360x864 with 1 Axes>"
      ]
     },
     "metadata": {
      "needs_background": "light"
     },
     "output_type": "display_data"
    }
   ],
   "source": [
    "feature_importance_df = pd.DataFrame()\n",
    "feature_importance_df['feature'] = features\n",
    "feature_importance_df['feature importance'] = model.feature_importances_\n",
    "feature_importance_df = feature_importance_df.sort_values('feature importance', ascending=False)\n",
    "plt.figure(figsize=(5,12))\n",
    "sns.barplot(x='feature importance', y='feature', data=feature_importance_df.iloc[:30])\n",
    "plt.show()"
   ]
  },
  {
   "cell_type": "markdown",
   "metadata": {},
   "source": [
    "The most important features are product category and Brand. For ingredient-related features, the NMF features are pretty good."
   ]
  },
  {
   "cell_type": "markdown",
   "metadata": {},
   "source": [
    "#### Look at some highly overestimated or underestimated examples"
   ]
  },
  {
   "cell_type": "code",
   "execution_count": 14,
   "metadata": {},
   "outputs": [
    {
     "name": "stdout",
     "output_type": "stream",
     "text": [
      "product_name: Retinol Plus Mask\n",
      "brand: Jan Marini Skin Research, Inc.\n",
      "category: Face Mask\n",
      "size: 1.20 fl. oz.\n",
      "price: 90.0\n",
      "ingredient: Water/Aqua/Eau,  Kaolin,  Caprylic/Capric Triglyceride,  Glyceryl Stearate,  Glycerin,  Polysorbate 60,  Salicylic Acid,  Stearic Acid,  Polysorbate 20,  Retinol,  Bisabolol,  Oligopeptide-24,  Aloe Barbadensis (Aloe Vera) Leaf Juice,  Carthamus Tinctorius (Safflower) Seed Oil,  Sodium Hyaluronate,  Ceramide 2,  Butyrospermum Parkii (Shea) Butter,  Camellia Oleifera (Green Tea) Leaf Extract,  Aspalathus Linearis Leaf Extract,  Camellia Sinensis Leaf Extract,  Tocopherol,  Tocopheryl Acetate,  Linoleic Acid,  Linolenic Acid,  Stearyl Alcohol,  Hydroxyethyl Acrylate/Sodium Acryloyldimethyl Taurate Copolymer,  Squalane,  Caprylyl Glycol,  Magnesium Aluminum Silicate,  Carrageenan,  Xanthan Gum,  Ethylhexylglycerin,  Hexylene Glycol,  PEG-40 Hydrogenated Castor Oil,  Sodium Hydroxide,  Citric Acid,  Propylene Glycol,  Disodium EDTA,  Phenoxyethanol\n",
      "predicted price\n",
      "only non-ingredient features: 61.6\n",
      "only ingredient features: 59.7\n",
      "final (all features): 62.2\n",
      "\n",
      "product_name: The Lifting and Firming Mask\n",
      "brand: La Mer\n",
      "category: Face Mask\n",
      "size: 1.70 fl. oz.\n",
      "price: 230.0\n",
      "ingredient: Declustered Water (-)AquaEau De-Structuree (-),  Declustered Water (+)AquaEau De-Structuree (+),  Dimethicone,  HDI/Trimethylol Hexyllactone Crosspolymer,  Cyclopentasiloxane,  Hydrogenated Polyisobutene,  Hydrogenated Vegetable Oil,  Caprylic/Capric/Myristic/Stearic Triglyceride,  Polysilicone-11,  PEG-100 Stearate,  PEG-8 Dimethicone,  PEG-10 Dimethicone,  Algae (Seaweed) Extract,  Sesamum Indicum (Sesame) Seed Oil,  Medicago Sativa (Alfalfa) Seed Powder,  Helianthus Annuus (Sunflower) Seedcake,  Prunus Amygdalus Dulcis (Sweet Almond) Seed Meal,  Eucalyptus Globulus (Eucalyptus) Leaf Oil,  Sodium Gluconate,  Copper Gluconate,  Calcium Gluconate,  Magnesium Gluconate,  Zinc Gluconate,  Tocopheryl Succinate,  Niacin,  Sesamum Indicum (Sesame) Seed Powder,  Vitis Vinifera (Grape) Seed Extract,  Citrus Aurantifolia (Lime) Peel Extract,  Sigesbeckia Orientalis (St. Paul's Wort) Extract,  Crithmum Maritimum Extract,  Eryngium Maritimum Extract,  Polygonum Cuspidatum Root Extract,  Silybum Marianum (Lady's Thistle) Extract,  Bupleurum Falcatum Root Extract,  Humulus Lupulus (Hops) Extract,  Citrus Reticulata (Tangerine) Peel Extract,  Mimosa Tenuiflora Bark Extract,  Narcissus Tazetta Bulb Extract,  Chlorella Vulgaris Extract,  Saccharomyces Lysate Extract,  Prunus Mume Fruit Extract,  Whey ProteinLactis ProteinProteine Du Petit-Lait,  Gelidium Cartilagineum Extract,  Glycerin,  Coenzyme A,  Micrococcus Lysate,  Laminaria Digitata Extract,  Rosmarinus Officinalis (Rosemary) Extract,  Laminaria Ochroleuca Extract,  Punica Granatum (Pomegranate) Fruit Juice,  Sorbitol,  Corallina Officinalis Extract,  Molasses ExtractSaccharum OfficinarumExtrait De Melasse,  Glycine Soja (Soybean) Seed Extract,  Tourmaline,  Caffeine,  Linolenic Acid,  Hydrogenated Lecithin,  Gold,  Hydrolyzed Wheat Protein,  Glycosaminoglycans,  Palmitoyl Oligopeptide,  Ammonium Acryloyldimethyltaurate/Beheneth-25 Methacrylate Crosspolymer,  Bifida Ferment Lysate,  Alcaligenes Polysaccharides,  Butylene Glycol,  Tetraacetylphytosphingosine,  Dipotassium Glycyrrhizate,  Lecithin,  Acetyl Glucosamine,  Sodium Hyaluronate,  Laureth-23,  Acetyl Hexapeptide-8,  Linoleic Acid,  Dipalmitoyl Hydroxyproline,  Propylene Glycol Diethylhexanoate,  Yeast ExtractFaexExtrait De Levure,  Caprylic/Capric Triglyceride,  Laureth-4,  Tocopheryl Acetate,  Diethylhexyl Syringylidenemalonate,  Pentylene Glycol,  PEG-8,  Potassium Sorbate,  Yeast Polysaccharides,  Hydroxypropyl Cyclodextrin,  Nordihydroguaiaretic Acid,  Cyclodextrin,  Maltodextrin,  Sucrose,  Glyceryl Polymethacrylate,  Fragrance (Parfum),  Polymethylsilsesquioxane,  Silica,  Ethylbisiminomethylguaiacol Manganese Chloride,  Disodium EDTA,  Phenoxyethanol,  Linalool,  Hydroxycitronellal,  Citronellol,  Geraniol,  Limonene,  Green 5.\n",
      "predicted price\n",
      "only non-ingredient features: 153.7\n",
      "only ingredient features: 212.2\n",
      "final (all features): 207.0\n",
      "\n",
      "product_name: Instantlift Facial Cream\n",
      "brand: Epicuren Discovery\n",
      "category: Nighttime Moisturizer\n",
      "size: 1.70 fl. oz.\n",
      "price: 98.0\n",
      "ingredient: Purified Water,  Glycerin,  Sweet Almond Oil,  Polyacrylamide,  Evening Primrose Oil,  Aloe Vera,  Macadamia Nut Oil,  Kukui Nut Oil,  Jojoba Oil,  Wild Thyme Essential Oils,  Rosemary Extract,  Bearberry Extract,  Cinnamon Extract,  Grapefruit Seed Extract,  Tocopheryl Acetate\n",
      "predicted price\n",
      "only non-ingredient features: 64.2\n",
      "only ingredient features: 24.9\n",
      "final (all features): 52.5\n",
      "\n"
     ]
    }
   ],
   "source": [
    "under_estimated_samples = np.random.choice(np.where(y_test-y_test_pred>20)[0], size=3)\n",
    "for i in under_estimated_samples:\n",
    "    product = test.iloc[i]\n",
    "    print_product(product)\n",
    "    print(\"predicted price\")\n",
    "    print(\"only non-ingredient features: %.1f\" %y_test_pred_n[i])\n",
    "    print(\"only ingredient features: %.1f\" %y_test_pred_i[i])\n",
    "    print(\"final (all features): %.1f\\n\" %y_test_pred[i])"
   ]
  },
  {
   "cell_type": "code",
   "execution_count": 15,
   "metadata": {},
   "outputs": [
    {
     "name": "stdout",
     "output_type": "stream",
     "text": [
      "product_name: Advanced Night Repair Synchronized Recovery Complex II\n",
      "brand: Estee Lauder\n",
      "category: Serum\n",
      "size: 1.00 fl. oz.\n",
      "price: 68.0\n",
      "ingredient: Water,  Bifida Ferment Lysate,  Methyl Gluceth-20,  PEG-75,  Bis-PEG-18 Methyl Ether Dimethyl Silane,  Butylene Glycol,  Propanediol,  Cola Acuminata (Kola) Seed Extract,  Hydrolyzed Algin,  Pantethine,  Caffeine,  Lectithin,  Tripeptide-32,  Ethylhexylglycerin, Sodium RNA,  Bisabolol,  Glycereth-26,  Squalane,  Sodium Hyaluronate,  Oleth-3 Phosphate,  Caprylyl Glycol,  Lactobacillus Ferment,  Oleth-3,  Oleth-5,  Anthemis Nobilis (Chamomile),  Yeast Extract,  Choleth-24,  Hydrogenated Lecithin,  Ceteth-24,  Tocopheryl Acetate,  Ethylhexyl Methoxycinnamate,  Hexylene Glycol,  Carbonmer,  Triethanolamine,  Trisodium EDTA,  BHT,  Xanthan Gum,  Phenoxyethanol,  Red 4,  Yellow 5.\n",
      "predicted price\n",
      "only non-ingredient features: 93.0\n",
      "only ingredient features: 42.4\n",
      "final (all features): 92.4\n",
      "\n",
      "product_name: Skin Perfecting Lotion\n",
      "brand: Murad\n",
      "category: Nighttime Moisturizer\n",
      "size: 1.70 fl. oz.\n",
      "price: 35.0\n",
      "ingredient: Water,  Dicaprylyl Maleate,  C12-15 Alkyl Benzoate,  Butylene Glycol, Glycerin,  Sorbitan Stearate,  Squalane,  Stearic Acid,  Retinol,  Caprylic/Capric Triglyceride,  Arnica Montana Flower Extract,  Epilobium Angustifolium Flower/Leaf/Stem Extract,  Palmitoyl Hydroxypropyltrimonium Amylopectin/Glycerin Crosspolymer,  Vitis Vinifera (Grape) Seed Extract,  Camellia Sinensis Leaf Extract,  Avena Sativa (Oat) Kernel Protein,  Hydrolyzed Soy Flour,  Spiraea Ulmaria Flower Extract ,  Honey Extract (Mel),  Cetearyl Alcohol,  Ceteareth-20,  Talc,  C9-15 Fluoroalcohol Phosphate,  Glycolipids,  Sodium Hyaluronate,  Panthenol,  Lecithin,  Tocopherol,  Magnesium Ascorbyl Phosphate,  Algae Extract,  Dimethicone,  Sodium PCA,  Allantoin,  Sclerotium Gum,  Carbomer,  Tetrasodium EDTA,  Aminomethyl Propanol,  Phenoxyethanol,  Methylparaben,  Propylparaben Citrus Aurantium Dulcis (Orange) Fruit Extract\n",
      "predicted price\n",
      "only non-ingredient features: 62.1\n",
      "only ingredient features: 66.5\n",
      "final (all features): 84.1\n",
      "\n",
      "product_name: Factor-A Plus Face Cream\n",
      "brand: Jan Marini Skin Research, Inc.\n",
      "category: Retinol\n",
      "size: 1.00 fl. oz.\n",
      "price: 51.0\n",
      "ingredient: Water,  Caprylic/Capric Triglyceride,  Glycolic Acid,  Glyceryl Stearate,  PEG-100 Stearate,  Glycerin,  Hexyl Laurate,  Sorbitol,  Butylene Glycol,  Stearic Acid,  Soybean Oil,  Algae Extract,  Cetyl Alcohol,  Sorbitan Stearate,  Polysorbate 60,  Retinol,  Sodium Hyaluronate,  Centella Asiatica Extract,  Echinacea Purpurea Extract,  Corn Oil,  Retinyl Palmitate,  Cholecalciferol,  Hydrolyzed Glycosaminoglycans,  Lecithin,  Dipalmitolyl Hydroxyproline,  Beta-Sitosterol,  Linoleic Acid,  Tocopherol,  Sodium Ascorbate,  Mannitol,  Yeast Extract,  Symphytum Officinale Extract,  Plantago Ovata Seed Extract,  Hydrolyzed Wheat Protein,  Glutamine,  Proline,  Serine,  Tocopheryl Acetate,  Wheat Germamidopropyldimonium Hydroxypropyl Hydrolyzed Wheat Protein,  Mallow Flower Extract,  Ivy Leaf Extract,  Cucumber Fruit Extract,  Sambucus Nigra Flower Extract,  Arnica Montana Flower Extract,  Parietaria Officinalis Extract,  Evening Primrose Oil,  Beta-Carotene,  PEG-8,  Ascorbyl Palmitate,  Ascorbic Acid,  Citric Acid,  Magnesium Aluminum Silicate,  Xanthan Gum,  Acrylates Copolymer,  Ammonium Hydroxide,  Propylene Glycol,  Disodium EDTA,  Phenoxyethanol,  Methylparaben,  Butylparaben,  Ethylparaben,  Propylparaben,  Fragrance\n",
      "predicted price\n",
      "only non-ingredient features: 84.3\n",
      "only ingredient features: 76.5\n",
      "final (all features): 78.0\n",
      "\n"
     ]
    }
   ],
   "source": [
    "over_estimated_samples = np.random.choice(np.where(y_test_pred-y_test>20)[0], size=3)\n",
    "for i in over_estimated_samples:\n",
    "    product = test.iloc[i]\n",
    "    print_product(product)\n",
    "    print(\"predicted price\")\n",
    "    print(\"only non-ingredient features: %.1f\" %y_test_pred_n[i])\n",
    "    print(\"only ingredient features: %.1f\" %y_test_pred_i[i])\n",
    "    print(\"final (all features): %.1f\\n\" %y_test_pred[i])"
   ]
  },
  {
   "cell_type": "code",
   "execution_count": null,
   "metadata": {},
   "outputs": [],
   "source": []
  }
 ],
 "metadata": {
  "kernelspec": {
   "display_name": "Python 3",
   "language": "python",
   "name": "python3"
  },
  "language_info": {
   "codemirror_mode": {
    "name": "ipython",
    "version": 3
   },
   "file_extension": ".py",
   "mimetype": "text/x-python",
   "name": "python",
   "nbconvert_exporter": "python",
   "pygments_lexer": "ipython3",
   "version": "3.6.5"
  }
 },
 "nbformat": 4,
 "nbformat_minor": 2
}
